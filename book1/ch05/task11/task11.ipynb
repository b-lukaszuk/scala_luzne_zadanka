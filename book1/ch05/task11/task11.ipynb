{
 "cells": [
  {
   "cell_type": "markdown",
   "id": "bf379687",
   "metadata": {},
   "source": [
    "# Task 11"
   ]
  },
  {
   "cell_type": "markdown",
   "id": "f0d3d4df",
   "metadata": {},
   "source": [
    "## Monthly payment"
   ]
  },
  {
   "cell_type": "markdown",
   "id": "2d2260e2",
   "metadata": {},
   "source": [
    "$monthlyPayment = \\frac{loanAmount \\times monthlyInterestRate}{1 - (1 + monthlyInterestRate)^{numberOfYears \\times 12}}$"
   ]
  },
  {
   "cell_type": "code",
   "execution_count": null,
   "id": "59597ca6",
   "metadata": {},
   "outputs": [],
   "source": [
    "def getMonthlyPayment(\n",
    "    loanAmnt:Double,\n",
    "    monthlyInterestRate:Double,\n",
    "    numYears:Int):Double =\n",
    "  \n",
    "    (loanAmnt * monthlyInterestRate) /\n",
    "    (1 - scala.math.pow(1 + monthlyInterestRate, numYears * 12))"
   ]
  },
  {
   "cell_type": "markdown",
   "id": "d203834c",
   "metadata": {},
   "source": [
    "## Total payment"
   ]
  },
  {
   "cell_type": "markdown",
   "id": "5cee8668",
   "metadata": {},
   "source": [
    "$totalPayment = monthlyPayment \\times numberOfYears \\times 12$"
   ]
  },
  {
   "cell_type": "code",
   "execution_count": null,
   "id": "d10b7807",
   "metadata": {},
   "outputs": [],
   "source": [
    "def getTotalPayment(\n",
    "    monthlyPayment:Double,\n",
    "    numYears:Int):Double =\n",
    "  \n",
    "    monthlyPayment * numYears * 12"
   ]
  },
  {
   "cell_type": "code",
   "execution_count": null,
   "id": "39b4d96c",
   "metadata": {},
   "outputs": [],
   "source": [
    "getTotalPayment(16000, 15)"
   ]
  },
  {
   "cell_type": "markdown",
   "id": "607a3c2a",
   "metadata": {},
   "source": [
    "## Monthly interest"
   ]
  },
  {
   "cell_type": "code",
   "execution_count": null,
   "id": "ecf50041",
   "metadata": {},
   "outputs": [],
   "source": [
    "def getMonthlyInterest(\n",
    "    monthlyInterestRate:Double,\n",
    "    principalBalance:Double):Double =\n",
    "\n",
    "    monthlyInterestRate * principalBalance"
   ]
  },
  {
   "cell_type": "markdown",
   "id": "16327d07",
   "metadata": {},
   "source": [
    "## Monthly principal paid"
   ]
  },
  {
   "cell_type": "code",
   "execution_count": null,
   "id": "51abfb13",
   "metadata": {},
   "outputs": [],
   "source": [
    "def getMonthlyPrincipalPaid(\n",
    "    monthlyPayment:Double,\n",
    "    monthlyInterest:Double): Double =\n",
    "\n",
    "    monthlyPayment - monthlyInterest"
   ]
  }
 ],
 "metadata": {
  "kernelspec": {
   "display_name": "spylon-kernel",
   "language": "scala",
   "name": "spylon-kernel"
  },
  "language_info": {
   "codemirror_mode": "text/x-scala",
   "file_extension": ".scala",
   "help_links": [
    {
     "text": "MetaKernel Magics",
     "url": "https://metakernel.readthedocs.io/en/latest/source/README.html"
    }
   ],
   "mimetype": "text/x-scala",
   "name": "scala",
   "pygments_lexer": "scala",
   "version": "0.4.1"
  }
 },
 "nbformat": 4,
 "nbformat_minor": 5
}
