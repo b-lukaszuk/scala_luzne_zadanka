{
 "cells": [
  {
   "cell_type": "markdown",
   "id": "49d69010",
   "metadata": {},
   "source": [
    "# Task 5\n",
    "\n",
    "## Description\n",
    "\n",
    "Craps is a popular dice game in Las Vegas. Write a program to play a variation of the game, as follows: Ask the player to place a bet on any or all of four sections: the FIELD section; the NUMBER section; OVER or UNDER 7 section; or the 7, 11, or CRAPS section.\n",
    "\n",
    "If the player placed their bet in the FIELD section:\n",
    "\n",
    "– The player may be on a 2, 3, 4, 9, 10, 11, or 12.\n",
    "\n",
    "– If the total of the 2 dice equals a 2, 3, 4, 9, 10, 11, or 12, the player wins.\n",
    "\n",
    "– If the total of the 2 dice equals 5, 6, 7, or 8, the House wins.\n",
    "<br>\n",
    "<br>\n",
    "<br>\n",
    "If the player placed their bet in the NUMBER section:\n",
    "\n",
    "– The player may bet on a 4, 5, 6, 8, 9, or 10.\n",
    "\n",
    "– If the dice total 4, 5, 6, 8, 9, or 10 the player wins.\n",
    "\n",
    "– House wins on all other numbers on that roll.\n",
    "<br>\n",
    "<br>\n",
    "<br>\n",
    "If the player placed their bet in the OVER or UNDER 7 section:\n",
    "\n",
    "– Player bet that the total of the 2 dice will be either Under 7 or Over 7.\n",
    "\n",
    "– Both over and under lose to the House if a total of 7 is thrown.\n",
    "<br>\n",
    "<br>\n",
    "<br>\n",
    "If the player placed their bet in the 7, 11, or CRAPS section:\n",
    "\n",
    "– The player may bet on a 7, or an 11 or any Craps (dice totaling either 2, 3, or 12) coming up on the throw of the dice.\n",
    "\n",
    "– House wins if the number selected does not come up.\n",
    "<br>\n",
    "<br>\n",
    "<br>\n",
    "Roll two dice. Each die has six faces representing values 1, 2, 3, 4, 5, and 6, respectively. You can generate a random Int between 0 and n in Scala using util.Random.nextInt(n). Check the sum of the two dice and tell the player if they won or if the house won."
   ]
  },
  {
   "cell_type": "markdown",
   "id": "84daaaa4",
   "metadata": {},
   "source": [
    "## Imports"
   ]
  },
  {
   "cell_type": "code",
   "execution_count": null,
   "id": "15da56e7",
   "metadata": {},
   "outputs": [],
   "source": [
    "import scala.collection.immutable.{HashMap}\n",
    "import scala.io.StdIn.{readLine}\n",
    "import scala.util.{Random}"
   ]
  },
  {
   "cell_type": "markdown",
   "id": "ff5d94d5",
   "metadata": {},
   "source": [
    "## Global variables"
   ]
  },
  {
   "cell_type": "code",
   "execution_count": null,
   "id": "6c1d5d3c",
   "metadata": {},
   "outputs": [],
   "source": [
    "val section2playerWin:HashMap[String, Array[Int]] = HashMap(\n",
    "  \"field\" -> Array(2, 3, 4, 9, 10, 11, 12),\n",
    "  \"number\" -> Array(4, 5, 6, 8, 9, 10),\n",
    "  \"under7\" -> (1 to 6).toArray,\n",
    "  \"over7\" -> (8 to 12).toArray,\n",
    "  \"craps\" -> Array(2, 3, 7, 11, 12)\n",
    ")"
   ]
  },
  {
   "cell_type": "markdown",
   "id": "2529ef07",
   "metadata": {},
   "source": [
    "## Functions"
   ]
  },
  {
   "cell_type": "code",
   "execution_count": null,
   "id": "1f7bb097",
   "metadata": {},
   "outputs": [],
   "source": [
    "def didPlayerWin(section:String, throwRes:Int,\n",
    "  map:HashMap[String, Array[Int]] = section2playerWin): Boolean = {\n",
    "  return map.getOrElse(section, Array(0)) contains throwRes\n",
    "}"
   ]
  },
  {
   "cell_type": "code",
   "execution_count": null,
   "id": "6dcb4ce2",
   "metadata": {},
   "outputs": [],
   "source": [
    "// throwing one 6-sided dice\n",
    "def throw1dice(): Int = {\n",
    "  return new Random().nextInt(6) + 1\n",
    "}"
   ]
  },
  {
   "cell_type": "code",
   "execution_count": null,
   "id": "0196bd3c",
   "metadata": {},
   "outputs": [],
   "source": [
    "// throwin one 6-sided dice\n",
    "def throw2dice():Array[Int] = {\n",
    "  return (for (_ <- 1 to 2) yield throw1dice()).toArray\n",
    "}"
   ]
  },
  {
   "cell_type": "code",
   "execution_count": null,
   "id": "c512adbd",
   "metadata": {},
   "outputs": [],
   "source": [
    "throw2dice()"
   ]
  },
  {
   "cell_type": "code",
   "execution_count": null,
   "id": "afa0910f",
   "metadata": {},
   "outputs": [],
   "source": [
    "def run1Round(section:String):Unit = {\n",
    "  val resOfThrow:Array[Int] = throw2dice()\n",
    "  println(\"Throwing two dice.\")\n",
    "  println(s\"result: result: (${resOfThrow.mkString(\", \")}), sum: ${resOfThrow.sum}\")\n",
    "  if (didPlayerWin(section, resOfThrow.sum)) println(\"Player wins.\") else println(\"House wins.\")\n",
    "}"
   ]
  },
  {
   "cell_type": "markdown",
   "id": "a2bfeaad",
   "metadata": {},
   "source": [
    "## Testing"
   ]
  },
  {
   "cell_type": "code",
   "execution_count": null,
   "id": "46d547db",
   "metadata": {},
   "outputs": [],
   "source": [
    "run1Round(\"field\")"
   ]
  },
  {
   "cell_type": "code",
   "execution_count": null,
   "id": "e57b6d9f",
   "metadata": {},
   "outputs": [],
   "source": [
    "run1Round(\"number\")"
   ]
  },
  {
   "cell_type": "code",
   "execution_count": null,
   "id": "3d883fd0",
   "metadata": {},
   "outputs": [],
   "source": [
    "run1Round(\"under7\")"
   ]
  },
  {
   "cell_type": "code",
   "execution_count": null,
   "id": "450009bf",
   "metadata": {},
   "outputs": [],
   "source": [
    "run1Round(\"over7\")"
   ]
  },
  {
   "cell_type": "code",
   "execution_count": null,
   "id": "8393af0b",
   "metadata": {},
   "outputs": [],
   "source": [
    "run1Round(\"craps\")"
   ]
  }
 ],
 "metadata": {
  "kernelspec": {
   "display_name": "spylon-kernel",
   "language": "scala",
   "name": "spylon-kernel"
  },
  "language_info": {
   "codemirror_mode": "text/x-scala",
   "file_extension": ".scala",
   "help_links": [
    {
     "text": "MetaKernel Magics",
     "url": "https://metakernel.readthedocs.io/en/latest/source/README.html"
    }
   ],
   "mimetype": "text/x-scala",
   "name": "scala",
   "pygments_lexer": "scala",
   "version": "0.4.1"
  },
  "name": "task5.ipynb"
 },
 "nbformat": 4,
 "nbformat_minor": 5
}
