{
 "cells": [
  {
   "cell_type": "code",
   "execution_count": null,
   "metadata": {},
   "outputs": [],
   "source": [
    "val decimals: Array[Int] = Array(0, 1, 2, 3, 4, 10, 12, 24, 33)\n",
    "val binaries: Array[String] = Array(\"0010 0101\", \"0001\", \"0101 1010\", \"0010\", \"0011 0101\", \"0000\")"
   ]
  },
  {
   "cell_type": "code",
   "execution_count": null,
   "metadata": {},
   "outputs": [],
   "source": [
    "// condition: binaryString.length % 4 = 0\n",
    "def insertSpaceEvery4Chars(binaryString: String): String =\n",
    "  var result: String = \"\"\n",
    "  val shift: Int = 4\n",
    "  for (i <- 0 to (binaryString.length - shift) by shift) do\n",
    "    result += (\n",
    "      binaryString.substring(i, i + shift) +\n",
    "        (if (i + shift == binaryString.length) \"\" else \" \")\n",
    "    )\n",
    "  return result"
   ]
  },
  {
   "cell_type": "code",
   "execution_count": null,
   "metadata": {},
   "outputs": [],
   "source": [
    "def formatBinaryString(binaryString: String): String =\n",
    "  val rest: Int = binaryString.length % 4\n",
    "  var result: String = if (rest != 0) then\n",
    "    (\"0\" * (4 - rest) + binaryString) else binaryString\n",
    "  return insertSpaceEvery4Chars(result)"
   ]
  },
  {
   "cell_type": "code",
   "execution_count": null,
   "metadata": {},
   "outputs": [],
   "source": [
    "def formatDecimalToBinaryString(decimal: Int): String =\n",
    "  var result: String = if (decimal == 0) \"0\" else \"\"\n",
    "  var afterDivision: Int = decimal\n",
    "  while (afterDivision != 0) do\n",
    "    result += (afterDivision % 2).toString\n",
    "    afterDivision /= 2\n",
    "  return formatBinaryString(result.reverse)"
   ]
  },
  {
   "cell_type": "code",
   "execution_count": null,
   "metadata": {},
   "outputs": [],
   "source": [
    "def declareConvertionToBinary(decimals: Array[Int]): Unit =\n",
    "  decimals.foreach((decimal) => {\n",
    "    println(s\"Converting ${decimal} (decimal) to binary\")\n",
    "    println(s\"My function: ${formatDecimalToBinaryString(decimal)}\")\n",
    "    println(s\"Build-in function: ${decimal.toBinaryString}\\n\")\n",
    "  })"
   ]
  },
  {
   "cell_type": "code",
   "execution_count": null,
   "metadata": {},
   "outputs": [],
   "source": [
    "def convertBinaryStringToDecimal(binaryString: String): Int =\n",
    "  val reversedBinaryString: String =\n",
    "    binaryString.replaceAll(\"\\\\s\", \"\").reverse\n",
    "  var result: Double = 0\n",
    "  for (i <- 0 to (reversedBinaryString.length - 1)) do\n",
    "    result += (reversedBinaryString.substring(i, i + 1).toInt * scala.math\n",
    "      .pow(2, i))\n",
    "  return result.toInt"
   ]
  },
  {
   "cell_type": "code",
   "execution_count": null,
   "metadata": {},
   "outputs": [],
   "source": [
    "def declareConvertionToDecimal(binaries: Array[String]): Unit =\n",
    "  binaries.foreach((binary) => {\n",
    "    println(s\"Converting ${binary} (binary) to decimal\")\n",
    "    println(s\"My function: ${convertBinaryStringToDecimal(binary)}\")\n",
    "    println(\n",
    "      s\"Build-in function: ${Integer.parseInt(binary.replaceAll(\"\\\\s\", \"\"), 2)}\\n\"\n",
    "    )\n",
    "  })"
   ]
  },
  {
   "cell_type": "code",
   "execution_count": null,
   "metadata": {},
   "outputs": [],
   "source": [
    "@main def task1(): Unit =\n",
    "  println(\"-\" * 30)\n",
    "  println(\"Task 1.\")\n",
    "  println(\"Decimal <-> Binary converter\\n\")\n",
    "  println(\"First, Decimal -> Binary\\n\")\n",
    "  declareConvertionToBinary(decimals)\n",
    "  println(\"Now, Binary -> Decimal\\n\")\n",
    "  declareConvertionToDecimal(binaries)\n",
    "  println(\"That's all. Goodbye!\")\n",
    "  println(\"-\" * 30)"
   ]
  },
  {
   "cell_type": "code",
   "execution_count": null,
   "metadata": {},
   "outputs": [],
   "source": [
    "task1()"
   ]
  }
 ],
 "metadata": {
  "kernelspec": {
   "display_name": "Scala",
   "language": "scala",
   "name": "scala"
  },
  "language_info": {
   "codemirror_mode": "text/x-scala",
   "file_extension": ".sc",
   "mimetype": "text/x-scala",
   "name": "scala",
   "nbconvert_exporter": "script",
   "version": "2.13.12"
  }
 },
 "nbformat": 4,
 "nbformat_minor": 2
}
