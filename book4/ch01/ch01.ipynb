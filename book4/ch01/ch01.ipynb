{
 "cells": [
  {
   "cell_type": "markdown",
   "id": "944d8667-4e1d-4673-b314-3b777d35a8ff",
   "metadata": {
    "collapsed": false
   },
   "source": [
    "# Ch01. Building Abstractions with Procedures"
   ]
  },
  {
   "cell_type": "markdown",
   "id": "6349bc45-e129-42a4-bad0-bd1961f15aff",
   "metadata": {
    "collapsed": false
   },
   "source": [
    "## Imports"
   ]
  },
  {
   "cell_type": "code",
   "execution_count": null,
   "id": "1a971c78-5a57-4342-8a3e-b1edf0edfb00",
   "metadata": {
    "collapsed": false
   },
   "outputs": [],
   "source": [
    "import scala.annotation.tailrec"
   ]
  },
  {
   "cell_type": "markdown",
   "id": "a8bfb7a7-3264-414b-94aa-f92ec863c265",
   "metadata": {
    "collapsed": false
   },
   "source": [
    "## Naming the Environment"
   ]
  },
  {
   "cell_type": "code",
   "execution_count": null,
   "id": "e650c138-f919-4445-afb5-de568a211991",
   "metadata": {
    "collapsed": false
   },
   "outputs": [],
   "source": [
    "def circumference(radius:Double):Double =\n",
    "    return scala.math.Pi * radius * radius"
   ]
  },
  {
   "cell_type": "code",
   "execution_count": null,
   "id": "7ff700c0-3d7a-4fc5-832e-78ae9618081b",
   "metadata": {
    "collapsed": false
   },
   "outputs": [],
   "source": [
    "circumference(10)"
   ]
  },
  {
   "cell_type": "markdown",
   "id": "59ad2330-fa8e-42db-9979-944c24b0a754",
   "metadata": {
    "collapsed": false
   },
   "source": [
    "## Compound Procedures"
   ]
  },
  {
   "cell_type": "code",
   "execution_count": null,
   "id": "46d93b3a-b23b-4ed0-8c79-5bb0ee95ae0c",
   "metadata": {
    "collapsed": false
   },
   "outputs": [],
   "source": [
    "def square(x:Double):Double =\n",
    "    return x * x"
   ]
  },
  {
   "cell_type": "code",
   "execution_count": null,
   "id": "df0ab418-4c2a-42de-bf54-d6c927b59cf3",
   "metadata": {
    "collapsed": false
   },
   "outputs": [],
   "source": [
    "(\n",
    "    square(21),\n",
    "    square(2+5),\n",
    "    square(square(3))\n",
    ")"
   ]
  },
  {
   "cell_type": "code",
   "execution_count": null,
   "id": "5d5561ff-3616-44ba-8736-0d06e56ecc4d",
   "metadata": {
    "collapsed": false
   },
   "outputs": [],
   "source": [
    "def sumOfSquares(x:Double, y:Double):Double =\n",
    "    return square(x) + square(y)"
   ]
  },
  {
   "cell_type": "code",
   "execution_count": null,
   "id": "24617ec8-83a8-4486-aaa2-e821c12d9ca4",
   "metadata": {
    "collapsed": false
   },
   "outputs": [],
   "source": [
    "sumOfSquares(3, 4)"
   ]
  },
  {
   "cell_type": "markdown",
   "id": "945e4341-0fd5-489f-8ec1-282566c683e5",
   "metadata": {
    "collapsed": false
   },
   "source": [
    "## Conditional Expressions and Predicates"
   ]
  },
  {
   "cell_type": "code",
   "execution_count": null,
   "id": "a196c2c9-d5e8-42c2-8fbf-a450ae0673f7",
   "metadata": {
    "collapsed": false
   },
   "outputs": [],
   "source": [
    "def abs(x:Double): Double =\n",
    "  return if x < 0 then -x else x"
   ]
  },
  {
   "cell_type": "code",
   "execution_count": null,
   "id": "21ec9e90-9eb2-4c3c-abe2-926e097aeb65",
   "metadata": {
    "collapsed": false
   },
   "outputs": [],
   "source": [
    "(\n",
    "    abs(-3),\n",
    "    abs(0),\n",
    "    abs(3)\n",
    ")"
   ]
  },
  {
   "cell_type": "markdown",
   "id": "30d29f06-ff44-4e55-8d9b-4fad7af48cd5",
   "metadata": {
    "collapsed": false
   },
   "source": [
    "## Example: Square Roots by Newton's Method"
   ]
  },
  {
   "cell_type": "code",
   "execution_count": null,
   "id": "3817a53a-83a3-4a95-88ba-4f68f1f907b7",
   "metadata": {
    "collapsed": false
   },
   "outputs": [],
   "source": [
    "def average(x:Double, y:Double): Double =\n",
    "  return (x + y) / 2"
   ]
  },
  {
   "cell_type": "code",
   "execution_count": null,
   "id": "bb287e1c-1926-43d3-a09d-0c30d45105a1",
   "metadata": {
    "collapsed": false
   },
   "outputs": [],
   "source": [
    "def improveSqrt(curGuess:Double, oldGuess:Double): Double =\n",
    "  return average(curGuess, oldGuess/curGuess)"
   ]
  },
  {
   "cell_type": "code",
   "execution_count": null,
   "id": "3c8fe66b-de18-41b7-902e-7581cd001f00",
   "metadata": {
    "collapsed": false
   },
   "outputs": [],
   "source": [
    "def isGoodEnoughSqrt(guess:Double, x:Double): Boolean =\n",
    "  return abs(square(guess) - x) < 0.001"
   ]
  },
  {
   "cell_type": "code",
   "execution_count": null,
   "id": "a56dcb58-5426-4c39-8a4d-a37629de4ecf",
   "metadata": {
    "collapsed": false
   },
   "outputs": [],
   "source": [
    "@tailrec\n",
    "def sqrtIter(guess: Double, x:Double):Double =\n",
    "  if isGoodEnoughSqrt(guess, x) then\n",
    "    return guess\n",
    "  else\n",
    "    return sqrtIter(improveSqrt(guess, x), x)"
   ]
  },
  {
   "cell_type": "code",
   "execution_count": null,
   "id": "63f9e629-709c-4843-85f2-4701930d334a",
   "metadata": {
    "collapsed": false
   },
   "outputs": [],
   "source": [
    "def sqrt(x:Double):Double =\n",
    "  return sqrtIter(1, x)"
   ]
  },
  {
   "cell_type": "code",
   "execution_count": null,
   "id": "9007431a-6735-4be7-af44-8c58aad73524",
   "metadata": {
    "collapsed": false
   },
   "outputs": [],
   "source": [
    "(\n",
    "  sqrt(9),\n",
    "  sqrt(100+37),\n",
    "  sqrt(sqrt(2) + sqrt(3)),\n",
    "  square(sqrt(1000))\n",
    ")"
   ]
  },
  {
   "cell_type": "markdown",
   "id": "b474e4aa-a47d-43a1-a361-35f4cb36b63c",
   "metadata": {
    "collapsed": false
   },
   "source": [
    "## Exercise 1.8. Newton's method for cube roots"
   ]
  },
  {
   "cell_type": "code",
   "execution_count": null,
   "id": "3c254eff-f314-455a-9fd1-3b36e50544e9",
   "metadata": {
    "collapsed": false
   },
   "outputs": [],
   "source": [
    "def cube(n: Double): Double =\n",
    "  return n * n * n"
   ]
  },
  {
   "cell_type": "code",
   "execution_count": null,
   "id": "c8b4c386-4356-4aa9-a0fb-92f61bb449c2",
   "metadata": {
    "collapsed": false
   },
   "outputs": [],
   "source": [
    "def improveCbrt(curGuess: Double, oldGuess: Double): Double =\n",
    "  return (oldGuess / (curGuess * curGuess) + 2 * curGuess) / 3"
   ]
  },
  {
   "cell_type": "code",
   "execution_count": null,
   "id": "c8e40754-8cf3-431d-abc6-91a96d291dcb",
   "metadata": {
    "collapsed": false
   },
   "outputs": [],
   "source": [
    "def isGoodEnoughCbrt(guess: Double, n: Double): Boolean =\n",
    "  return abs(cube(guess) - n) < 0.001"
   ]
  },
  {
   "cell_type": "code",
   "execution_count": null,
   "id": "5ee4839b-e9ed-4a04-b3e5-57e1e3990bcb",
   "metadata": {
    "collapsed": false
   },
   "outputs": [],
   "source": [
    "@tailrec\n",
    "def getCbrtIter(guess: Double, n: Double): Double =\n",
    "  if isGoodEnoughCbrt(guess, n) then\n",
    "    return guess\n",
    "  else\n",
    "    return getCbrtIter(improveCbrt(guess, n), n)"
   ]
  },
  {
   "cell_type": "code",
   "execution_count": null,
   "id": "65bc2c5b-054c-4c41-8cd3-678dd6f2d6c2",
   "metadata": {
    "collapsed": false
   },
   "outputs": [],
   "source": [
    "def getCbrt(n: Double): Double =\n",
    "  return getCbrtIter(1, n)"
   ]
  },
  {
   "cell_type": "code",
   "execution_count": null,
   "id": "f21d82a4-65d1-4608-9974-02ae769a6314",
   "metadata": {
    "collapsed": false
   },
   "outputs": [],
   "source": [
    "(\n",
    "  getCbrt(8),\n",
    "  getCbrt(27),\n",
    "  getCbrt(64),\n",
    ")"
   ]
  },
  {
   "cell_type": "markdown",
   "id": "60f251ed-459a-4052-9f1c-050c9b27bdd7",
   "metadata": {
    "collapsed": false
   },
   "source": [
    "## Linear Recursion and Iteration"
   ]
  },
  {
   "cell_type": "code",
   "execution_count": null,
   "id": "031ac337-e4e6-47dc-9186-6f79ae4e895b",
   "metadata": {
    "collapsed": false
   },
   "outputs": [],
   "source": [
    "// recursive process\n",
    "def factRec(n: Int): Int =\n",
    "    if (n == 1) then\n",
    "        return 1\n",
    "    else\n",
    "        return n * factRec(n - 1)"
   ]
  },
  {
   "cell_type": "code",
   "execution_count": null,
   "id": "e9722557-5e03-499a-a714-76ddce03d27b",
   "metadata": {
    "collapsed": false
   },
   "outputs": [],
   "source": [
    "// iterative process\n",
    "@tailrec\n",
    "def factIter(product: Int, counter: Int, maxCount: Int): Int =\n",
    "    if (counter > maxCount) then\n",
    "        return product\n",
    "    else\n",
    "        return factIter(counter * product, counter + 1, maxCount) \n",
    "\n",
    "def fact(n: Int): Int =\n",
    "    return factIter(1, 1, n)"
   ]
  },
  {
   "cell_type": "code",
   "execution_count": null,
   "id": "cb3b72d2-27ea-4cfd-a9c2-7964c882cfee",
   "metadata": {
    "collapsed": false
   },
   "outputs": [],
   "source": [
    "println(\"Factorial, a linear recursive process.\")\n",
    "for (i <- 4 to 8)\n",
    "    println(s\"factRec($i) = ${factRec(i)}\")"
   ]
  },
  {
   "cell_type": "code",
   "execution_count": null,
   "id": "b4d93b02-b300-4a88-8d7e-a1d473d57b49",
   "metadata": {
    "collapsed": false
   },
   "outputs": [],
   "source": [
    "println(\"Factorial, a linear iterative process.\")\n",
    "for (i <- 4 to 8)\n",
    "    println(s\"factIter($i) = ${fact(i)}\")"
   ]
  },
  {
   "cell_type": "markdown",
   "id": "542484c9-f1ed-4404-b60c-69651074946a",
   "metadata": {
    "collapsed": false
   },
   "source": [
    "## Tree Recursion"
   ]
  },
  {
   "cell_type": "code",
   "execution_count": null,
   "id": "20e178f5-6392-425c-a9c3-c3a37091cb4c",
   "metadata": {
    "collapsed": false
   },
   "outputs": [],
   "source": [
    "// recursive process\n",
    "def fibRec(n: Int): Int =\n",
    "    if (n <= 0) then\n",
    "        return 0\n",
    "    else if (n == 1) then\n",
    "        return 1\n",
    "    else\n",
    "        return fibRec(n-1) + fibRec(n-2)"
   ]
  },
  {
   "cell_type": "code",
   "execution_count": null,
   "id": "23b3681c-ec77-4078-99fb-6926c24f896e",
   "metadata": {
    "collapsed": false
   },
   "outputs": [],
   "source": [
    "// iterative process\n",
    "@tailrec\n",
    "def fibIter(a: Int, b: Int, count: Int): Int =\n",
    "    if (count <= 0) then\n",
    "        return b\n",
    "    else\n",
    "        fibIter(a+b, a, count-1)\n",
    "\n",
    "def fib(n: Int): Int =\n",
    "    return fibIter(1, 0, n)"
   ]
  },
  {
   "cell_type": "code",
   "execution_count": null,
   "id": "c3ca059a-c6c0-4523-afaa-ec761246071a",
   "metadata": {
    "collapsed": false
   },
   "outputs": [],
   "source": [
    "println(\"Fibonacci, a linear recursive process.\")\n",
    "for (i <- 4 to 8)\n",
    "    println(s\"fibRec($i) = ${fibRec(i)}\")"
   ]
  },
  {
   "cell_type": "code",
   "execution_count": null,
   "id": "549dfada-fb7d-476b-aca1-b6941ada9817",
   "metadata": {
    "collapsed": false
   },
   "outputs": [],
   "source": [
    "println(\"Fibonacci, a linear iterative process.\")\n",
    "for (i <- 4 to 8)\n",
    "    println(s\"fibIter($i) = ${fib(i)}\")"
   ]
  },
  {
   "cell_type": "markdown",
   "id": "722124e3-7e4d-42e2-8131-d4a5bb75e274",
   "metadata": {
    "collapsed": false
   },
   "source": [
    "## Example: Counting Change\n",
    "\n",
    "How many different ways can we make change of $1.00, given 50c, 25c, 10c, 5c,\n",
    "1c?\n",
    "\n",
    "More generally, can we write a procedure to compute the number of ways to change\n",
    "any given amount of money?\n",
    "\n",
    "\n",
    "The number of ways to change amount `a` using `n` kinds of coins equals:\n",
    "- the number of ways to change amount `a` using all but the first kind of coin, plus\n",
    "- the number of ways to change amoung `a - d` usling all `n` kinds of coins, where `d` is the denomination of the first kind of coin.\n",
    "\n",
    "Let's specify the following base cases:\n",
    "- if `a` is exactly 0, we should count that as 1 way to make change,\n",
    "- if `a` is less than 0, we should count that as 0 ways to make change.\n",
    "- if `n` is 0, we should count that as 0 ways to make change."
   ]
  },
  {
   "cell_type": "code",
   "execution_count": null,
   "id": "33bcb1ab-4e2e-4bf6-8d0e-ca45fb727471",
   "metadata": {
    "collapsed": false
   },
   "outputs": [],
   "source": [
    "def getCoinDenomination(kind: Int): Int =\n",
    "    assert(kind > 0)\n",
    "    kind match\n",
    "    case 1 => 1\n",
    "    case 2 => 5\n",
    "    case 3 => 10\n",
    "    case 4 => 25\n",
    "    case 5 => 50\n",
    "    case _ => 50 // should never happen"
   ]
  },
  {
   "cell_type": "code",
   "execution_count": null,
   "id": "49268b13-0a56-41d9-a50b-af59bfc43964",
   "metadata": {
    "collapsed": false
   },
   "outputs": [],
   "source": [
    "def countChange1(amount: Int, kindsOfCoins: Int): Int =\n",
    "    assert(kindsOfCoins >= 0)\n",
    "    if (amount == 0) then\n",
    "        return 1\n",
    "    else if (amount < 0 || kindsOfCoins == 0) then\n",
    "        return 0\n",
    "    else\n",
    "        return (\n",
    "            countChange1(amount, kindsOfCoins - 1) +\n",
    "            countChange1(amount - getCoinDenomination(kindsOfCoins), kindsOfCoins)\n",
    "        )"
   ]
  },
  {
   "cell_type": "code",
   "execution_count": null,
   "id": "bb12a6c7-7c6d-45c8-b544-b6a8348a4d39",
   "metadata": {
    "collapsed": false
   },
   "outputs": [],
   "source": [
    "def countChange(amount: Int): Int =\n",
    "    assert(amount >= 0)\n",
    "    return countChange1(amount, 5)"
   ]
  },
  {
   "cell_type": "code",
   "execution_count": null,
   "id": "cf3458b7-c959-4cc5-9b03-196af55e524c",
   "metadata": {
    "collapsed": false
   },
   "outputs": [],
   "source": [
    "countChange(100)"
   ]
  },
  {
   "cell_type": "markdown",
   "id": "37e0dadf-b5be-43b4-950e-71d2940cd2cd",
   "metadata": {
    "collapsed": false
   },
   "source": [
    "## Exponentiation"
   ]
  },
  {
   "cell_type": "code",
   "execution_count": null,
   "id": "e2b04af3-f31d-4bca-a01c-d3b3b0f15b92",
   "metadata": {
    "collapsed": false
   },
   "outputs": [],
   "source": [
    "// retuires O(n) steps and O(n) space\n",
    "def exptRec(b: Int, n: Int): Int =\n",
    "    n match\n",
    "    case 0 => 1\n",
    "    case _ => b * exptRec(b, n - 1) "
   ]
  },
  {
   "cell_type": "code",
   "execution_count": null,
   "id": "d3760115-c1e7-4c7c-ae1f-8ba23bd81bdd",
   "metadata": {
    "collapsed": false
   },
   "outputs": [],
   "source": [
    "// requires O(n) steps and O(1) space\n",
    "@tailrec\n",
    "def exptIter(b: Int, counter: Int, product: Int): Int =\n",
    "    counter match\n",
    "    case 0 => product\n",
    "    case _ => exptIter(b, counter - 1, b * product)\n",
    "\n",
    "def expt(b: Int, n: Int): Int =\n",
    "    return exptIter(b, n, 1)"
   ]
  },
  {
   "cell_type": "code",
   "execution_count": null,
   "id": "8a3a35a6-8b72-49f9-a754-9692f37f2a34",
   "metadata": {
    "collapsed": false
   },
   "outputs": [],
   "source": [
    "val rand = new scala.util.Random"
   ]
  },
  {
   "cell_type": "code",
   "execution_count": null,
   "id": "7a114413-03ed-4e09-8170-d48b048f5f73",
   "metadata": {
    "collapsed": false
   },
   "outputs": [],
   "source": [
    "var pow = 0\n",
    "for(_ <- 1 to 5)\n",
    "    pow = rand.between(0, 8)\n",
    "    println(s\"recursive exponentiation 2^${pow} = ${exptRec(2, pow)}\")"
   ]
  },
  {
   "cell_type": "code",
   "execution_count": null,
   "id": "c38ccb6d-263c-45f4-8f46-50c7d15dfca9",
   "metadata": {
    "collapsed": false
   },
   "outputs": [],
   "source": [
    "var pow = 0\n",
    "for(_ <- 1 to 5)\n",
    "    pow = rand.between(0, 8)\n",
    "    println(s\"iterative exponentiation 2^${pow} = ${expt(2, pow)}\")"
   ]
  },
  {
   "cell_type": "markdown",
   "id": "25aa2278-7a44-4bb7-8f3d-d782b5869d1f",
   "metadata": {
    "collapsed": false
   },
   "source": [
    "`expt` (and `exptIter`) requires O(n) steps and O(1) space."
   ]
  },
  {
   "cell_type": "markdown",
   "id": "99fe1094-42b2-4edd-b114-bb43cd7af1d9",
   "metadata": {
    "collapsed": false
   },
   "source": [
    "Computing exponentials with fewer steps by using successive squaring, e.g. for $b^8$, \n",
    "instead of:\n",
    "\n",
    "$b * (b * (b * (b * (b * (b * (b * b))))))$\n",
    "\n",
    "we compute:\n",
    "\n",
    "$b^2 = b * b$,\n",
    "\n",
    "$b^4 = b^2 * b^2$,\n",
    "\n",
    "$b^8 = b^4 * b^4$\n",
    "\n",
    "In general we type:\n",
    "\n",
    "$b^n = (b^{n/2})^2$ if $n$ is even,\n",
    "\n",
    "$b^n = b * b^{n-1}$ if $n$ is odd."
   ]
  },
  {
   "cell_type": "code",
   "execution_count": null,
   "id": "e91297f3-e403-47d5-8daf-48301acda363",
   "metadata": {
    "collapsed": false
   },
   "outputs": [],
   "source": [
    "def isEven(n: Int): Boolean =\n",
    "    return n % 2 == 0"
   ]
  },
  {
   "cell_type": "code",
   "execution_count": null,
   "id": "800e0f65-07c6-43a9-a62c-ab3c55e1d588",
   "metadata": {
    "collapsed": false
   },
   "outputs": [],
   "source": [
    "def square(x: Int): Int =\n",
    "    return x * x"
   ]
  },
  {
   "cell_type": "code",
   "execution_count": null,
   "id": "5587071c-8830-458b-9ed5-7f6566220e2b",
   "metadata": {
    "collapsed": false
   },
   "outputs": [],
   "source": [
    "def fastExpt(b: Int, n: Int): Int =\n",
    "    if n == 0 then\n",
    "        return 1\n",
    "    else if isEven(n) then\n",
    "        return square(fastExpt(b, n/2))\n",
    "    else\n",
    "        return b * fastExpt(b, n-1)"
   ]
  },
  {
   "cell_type": "code",
   "execution_count": null,
   "id": "f9668ef3-f190-4e19-b266-213a52351203",
   "metadata": {
    "collapsed": false
   },
   "outputs": [],
   "source": [
    "var pow = 0\n",
    "for(_ <- 1 to 5)\n",
    "    pow = rand.between(0, 8)\n",
    "    println(s\"fast exponentiation 2^${pow} = ${fastExpt(2, pow)}\")"
   ]
  },
  {
   "cell_type": "code",
   "execution_count": null,
   "id": "7658af06-aab2-4875-9f21-3b1c3da1aea8",
   "metadata": {
    "collapsed": false
   },
   "outputs": [],
   "source": [
    "def log2(x: Double): Double =\n",
    "    return scala.math.log10(x)/scala.math.log10(2)"
   ]
  },
  {
   "cell_type": "markdown",
   "id": "5d74fa5a-6f9f-4e33-9990-7131c9fe91cd",
   "metadata": {
    "collapsed": false
   },
   "source": [
    "The process (`fastExpt`) requires O(log n) steps instead of O(n) steps (`exptIter`)."
   ]
  }
 ],
 "metadata": {
  "kernelspec": {
   "argv": [
    "java",
    "-cp",
    "/home/czesio/.local/share/jupyter/kernels/scala/launcher.jar",
    "coursier.bootstrap.launcher.Launcher",
    "--connection-file",
    "{connection_file}"
   ],
   "display_name": "Scala",
   "env": null,
   "interrupt_mode": "signal",
   "language": "scala",
   "metadata": null,
   "name": "scala"
  },
  "language_info": {
   "codemirror_mode": "text/x-scala",
   "file_extension": ".sc",
   "mimetype": "text/x-scala",
   "name": "scala",
   "nbconvert_exporter": "script",
   "version": "2.13.12"
  },
  "name": "ch01.ipynb"
 },
 "nbformat": 4,
 "nbformat_minor": 2
}
