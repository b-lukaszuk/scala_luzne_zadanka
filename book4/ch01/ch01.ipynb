{
 "cells": [
  {
   "cell_type": "markdown",
   "metadata": {},
   "source": [
    "# Ch01. Building Abstractions with Procedures"
   ]
  },
  {
   "cell_type": "markdown",
   "metadata": {},
   "source": [
    "## Imports"
   ]
  },
  {
   "cell_type": "code",
   "execution_count": null,
   "metadata": {},
   "outputs": [],
   "source": [
    "import scala.annotation.tailrec"
   ]
  },
  {
   "cell_type": "markdown",
   "metadata": {},
   "source": [
    "## Naming the Environment"
   ]
  },
  {
   "cell_type": "code",
   "execution_count": null,
   "metadata": {},
   "outputs": [],
   "source": [
    "def circumference(radius:Double):Double =\n",
    "    return scala.math.Pi * radius * radius"
   ]
  },
  {
   "cell_type": "code",
   "execution_count": null,
   "metadata": {},
   "outputs": [],
   "source": [
    "circumference(10)"
   ]
  },
  {
   "cell_type": "markdown",
   "metadata": {},
   "source": [
    "## Compound Procedures"
   ]
  },
  {
   "cell_type": "code",
   "execution_count": null,
   "metadata": {},
   "outputs": [],
   "source": [
    "def square(x:Double):Double =\n",
    "    return x * x"
   ]
  },
  {
   "cell_type": "code",
   "execution_count": null,
   "metadata": {},
   "outputs": [],
   "source": [
    "(\n",
    "    square(21),\n",
    "    square(2+5),\n",
    "    square(square(3))\n",
    ")"
   ]
  },
  {
   "cell_type": "code",
   "execution_count": null,
   "metadata": {},
   "outputs": [],
   "source": [
    "def sumOfSquares(x:Double, y:Double):Double =\n",
    "    return square(x) + square(y)"
   ]
  },
  {
   "cell_type": "code",
   "execution_count": null,
   "metadata": {},
   "outputs": [],
   "source": [
    "sumOfSquares(3, 4)"
   ]
  },
  {
   "cell_type": "markdown",
   "metadata": {},
   "source": [
    "## Conditional Expressions and Predicates"
   ]
  },
  {
   "cell_type": "code",
   "execution_count": null,
   "metadata": {},
   "outputs": [],
   "source": [
    "def abs(x:Double): Double =\n",
    "  return if x < 0 then -x else x"
   ]
  },
  {
   "cell_type": "code",
   "execution_count": null,
   "metadata": {},
   "outputs": [],
   "source": [
    "(\n",
    "    abs(-3),\n",
    "    abs(0),\n",
    "    abs(3)\n",
    ")"
   ]
  },
  {
   "cell_type": "markdown",
   "metadata": {},
   "source": [
    "## Example: Square Roots by Newton's Method"
   ]
  },
  {
   "cell_type": "code",
   "execution_count": null,
   "metadata": {},
   "outputs": [],
   "source": [
    "def average(x:Double, y:Double): Double =\n",
    "  return (x + y) / 2"
   ]
  },
  {
   "cell_type": "code",
   "execution_count": null,
   "metadata": {},
   "outputs": [],
   "source": [
    "def improve(curGuess:Double, oldGuess:Double): Double =\n",
    "  return average(curGuess, oldGuess/curGuess)"
   ]
  },
  {
   "cell_type": "code",
   "execution_count": null,
   "metadata": {},
   "outputs": [],
   "source": [
    "def isGoodEnough(guess:Double, x:Double): Boolean =\n",
    "  return abs(square(guess) - x) < 0.001"
   ]
  },
  {
   "cell_type": "code",
   "execution_count": null,
   "metadata": {},
   "outputs": [],
   "source": [
    "@tailrec\n",
    "def sqrtIter(guess: Double, x:Double):Double =\n",
    "  if isGoodEnough(guess, x) then\n",
    "    return guess\n",
    "  else\n",
    "    return sqrtIter(improve(guess, x), x)"
   ]
  },
  {
   "cell_type": "code",
   "execution_count": null,
   "metadata": {},
   "outputs": [],
   "source": [
    "def sqrt(x:Double):Double =\n",
    "  return sqrtIter(1, x)"
   ]
  },
  {
   "cell_type": "code",
   "execution_count": null,
   "metadata": {},
   "outputs": [],
   "source": [
    "(\n",
    "  sqrt(9),\n",
    "  sqrt(100+37),\n",
    "  sqrt(sqrt(2) + sqrt(3)),\n",
    "  square(sqrt(1000))\n",
    ")"
   ]
  },
  {
   "cell_type": "markdown",
   "metadata": {},
   "source": [
    "## Linear Recursion and Iteration"
   ]
  },
  {
   "cell_type": "code",
   "execution_count": null,
   "metadata": {},
   "outputs": [],
   "source": [
    "// recursive process\n",
    "def fact1(n: Int): Int =\n",
    "    if (n == 1) then\n",
    "        return 1\n",
    "    else\n",
    "        return n * fact1(n - 1)\n"
   ]
  },
  {
   "cell_type": "code",
   "execution_count": null,
   "metadata": {},
   "outputs": [],
   "source": [
    "// iterative process\n",
    "@tailrec\n",
    "def factIter(product: Int, counter: Int, maxCount: Int): Int =\n",
    "    if (counter > maxCount) then\n",
    "        return product\n",
    "    else\n",
    "        return factIter(counter * product, counter + 1, maxCount) \n",
    "\n",
    "def fact(n: Int): Int =\n",
    "    return factIter(1, 1, n)"
   ]
  },
  {
   "cell_type": "code",
   "execution_count": null,
   "metadata": {},
   "outputs": [],
   "source": [
    "println(\"Factorial, a linear recursive process.\")\n",
    "for (i <- 4 to 8)\n",
    "    println(s\"fact-rec($i) = ${fact1(i)}\")"
   ]
  },
  {
   "cell_type": "code",
   "execution_count": null,
   "metadata": {},
   "outputs": [],
   "source": [
    "println(\"Factorial, a linear iterative process.\")\n",
    "for (i <- 4 to 8)\n",
    "    println(s\"fact-iter($i) = ${fact(i)}\")"
   ]
  }
 ],
 "metadata": {
  "kernelspec": {
   "display_name": "Scala",
   "language": "scala",
   "name": "scala"
  },
  "language_info": {
   "codemirror_mode": "text/x-scala",
   "file_extension": ".sc",
   "mimetype": "text/x-scala",
   "name": "scala",
   "nbconvert_exporter": "script",
   "version": "2.13.12"
  },
  "name": "ch01.ipynb"
 },
 "nbformat": 4,
 "nbformat_minor": 2
}
