{
 "cells": [
  {
   "cell_type": "markdown",
   "id": "2893c120-4cef-48ce-baed-b649239f5387",
   "metadata": {
    "collapsed": false,
    "jupyter": {
     "outputs_hidden": false
    }
   },
   "source": [
    "# Ch01. Building Abstractions with Procedures"
   ]
  },
  {
   "cell_type": "markdown",
   "id": "2e811a51-1885-403a-84f1-f930a1f2e4d0",
   "metadata": {
    "collapsed": false,
    "jupyter": {
     "outputs_hidden": false
    }
   },
   "source": [
    "## Imports"
   ]
  },
  {
   "cell_type": "code",
   "execution_count": null,
   "id": "f376f9b6-ff09-407b-930a-31674a4b40a6",
   "metadata": {
    "collapsed": false,
    "jupyter": {
     "outputs_hidden": false
    }
   },
   "outputs": [],
   "source": [
    "import scala.annotation.tailrec"
   ]
  },
  {
   "cell_type": "markdown",
   "id": "0965a69d-5748-4ba7-a950-9d02ab025bf8",
   "metadata": {
    "collapsed": false,
    "jupyter": {
     "outputs_hidden": false
    }
   },
   "source": [
    "## 1.1 The Elements of Programming"
   ]
  },
  {
   "cell_type": "markdown",
   "id": "f7f9417e-c220-4315-86c0-920836a09b06",
   "metadata": {
    "collapsed": false,
    "jupyter": {
     "outputs_hidden": false
    }
   },
   "source": [
    "### 1.1.2 Naming the Environment"
   ]
  },
  {
   "cell_type": "code",
   "execution_count": null,
   "id": "a2e89650-7906-497a-aea5-ad4929001fd2",
   "metadata": {
    "collapsed": false,
    "jupyter": {
     "outputs_hidden": false
    }
   },
   "outputs": [],
   "source": [
    "def circumference(radius:Double):Double =\n",
    "    return scala.math.Pi * radius * radius"
   ]
  },
  {
   "cell_type": "code",
   "execution_count": null,
   "id": "29723449-32a6-4191-b006-42226be0e354",
   "metadata": {
    "collapsed": false,
    "jupyter": {
     "outputs_hidden": false
    }
   },
   "outputs": [],
   "source": [
    "circumference(10)"
   ]
  },
  {
   "cell_type": "markdown",
   "id": "cf9a2fb7-cfb8-4545-a17e-924d8ed0d08c",
   "metadata": {
    "collapsed": false,
    "jupyter": {
     "outputs_hidden": false
    }
   },
   "source": [
    "### 1.1.4 Compound Procedures"
   ]
  },
  {
   "cell_type": "code",
   "execution_count": null,
   "id": "148f91e8-491b-4cc9-90ec-6ecaf8a6fa3a",
   "metadata": {
    "collapsed": false,
    "jupyter": {
     "outputs_hidden": false
    }
   },
   "outputs": [],
   "source": [
    "def square(x:Double):Double =\n",
    "    return x * x"
   ]
  },
  {
   "cell_type": "code",
   "execution_count": null,
   "id": "a3c659a2-1633-4675-8d4d-536407fae245",
   "metadata": {
    "collapsed": false,
    "jupyter": {
     "outputs_hidden": false
    }
   },
   "outputs": [],
   "source": [
    "(\n",
    "    square(21),\n",
    "    square(2+5),\n",
    "    square(square(3))\n",
    ")"
   ]
  },
  {
   "cell_type": "code",
   "execution_count": null,
   "id": "b21bbfa4-fc19-4fde-bf85-832820ccd71b",
   "metadata": {
    "collapsed": false,
    "jupyter": {
     "outputs_hidden": false
    }
   },
   "outputs": [],
   "source": [
    "def sumOfSquares(x:Double, y:Double):Double =\n",
    "    return square(x) + square(y)"
   ]
  },
  {
   "cell_type": "code",
   "execution_count": null,
   "id": "1ffa3f66-6ecf-419c-84f4-b25b10bd2d98",
   "metadata": {
    "collapsed": false,
    "jupyter": {
     "outputs_hidden": false
    }
   },
   "outputs": [],
   "source": [
    "sumOfSquares(3, 4)"
   ]
  },
  {
   "cell_type": "markdown",
   "id": "7ed95ba1-7331-4322-a360-deb8c0d1d801",
   "metadata": {
    "collapsed": false,
    "jupyter": {
     "outputs_hidden": false
    }
   },
   "source": [
    "### 1.1.6 Conditional Expressions and Predicates"
   ]
  },
  {
   "cell_type": "code",
   "execution_count": null,
   "id": "3723c84a-5611-4be6-8468-43aa8eb93bcd",
   "metadata": {
    "collapsed": false,
    "jupyter": {
     "outputs_hidden": false
    }
   },
   "outputs": [],
   "source": [
    "def abs(x:Double): Double =\n",
    "  return if x < 0 then -x else x"
   ]
  },
  {
   "cell_type": "code",
   "execution_count": null,
   "id": "b8eb1cb0-f283-4cea-87bb-7bf9cf2686e8",
   "metadata": {
    "collapsed": false,
    "jupyter": {
     "outputs_hidden": false
    }
   },
   "outputs": [],
   "source": [
    "(\n",
    "    abs(-3),\n",
    "    abs(0),\n",
    "    abs(3)\n",
    ")"
   ]
  },
  {
   "cell_type": "markdown",
   "id": "5c13e877-4140-480a-99e2-b1e99ae57bc9",
   "metadata": {
    "collapsed": false,
    "jupyter": {
     "outputs_hidden": false
    }
   },
   "source": [
    "### 1.1.7 Example: Square Roots by Newton's Method"
   ]
  },
  {
   "cell_type": "code",
   "execution_count": null,
   "id": "b3f160f4-ae7d-4c15-bf62-7aa608aee1c0",
   "metadata": {
    "collapsed": false,
    "jupyter": {
     "outputs_hidden": false
    }
   },
   "outputs": [],
   "source": [
    "def average(x:Double, y:Double): Double =\n",
    "  return (x + y) / 2"
   ]
  },
  {
   "cell_type": "code",
   "execution_count": null,
   "id": "585091a7-1023-4752-9114-696ea1d8458e",
   "metadata": {
    "collapsed": false,
    "jupyter": {
     "outputs_hidden": false
    }
   },
   "outputs": [],
   "source": [
    "def improveSqrt(curGuess:Double, oldGuess:Double): Double =\n",
    "  return average(curGuess, oldGuess/curGuess)"
   ]
  },
  {
   "cell_type": "code",
   "execution_count": null,
   "id": "b6c51581-b99f-49ec-add2-fdb31dffeece",
   "metadata": {
    "collapsed": false,
    "jupyter": {
     "outputs_hidden": false
    }
   },
   "outputs": [],
   "source": [
    "def isGoodEnoughSqrt(guess:Double, x:Double): Boolean =\n",
    "  return abs(square(guess) - x) < 0.001"
   ]
  },
  {
   "cell_type": "code",
   "execution_count": null,
   "id": "dfa4b859-f2d6-48e2-b6cb-4d68a070abfa",
   "metadata": {
    "collapsed": false,
    "jupyter": {
     "outputs_hidden": false
    }
   },
   "outputs": [],
   "source": [
    "@tailrec\n",
    "def sqrtIter(guess: Double, x:Double):Double =\n",
    "  if isGoodEnoughSqrt(guess, x) then\n",
    "    return guess\n",
    "  else\n",
    "    return sqrtIter(improveSqrt(guess, x), x)"
   ]
  },
  {
   "cell_type": "code",
   "execution_count": null,
   "id": "11271b0c-4ddf-4978-b31b-3094c6689e31",
   "metadata": {
    "collapsed": false,
    "jupyter": {
     "outputs_hidden": false
    }
   },
   "outputs": [],
   "source": [
    "def sqrt(x:Double):Double =\n",
    "  return sqrtIter(1, x)"
   ]
  },
  {
   "cell_type": "code",
   "execution_count": null,
   "id": "acf86977-9db0-4a17-adc5-0f19d3e3708c",
   "metadata": {
    "collapsed": false,
    "jupyter": {
     "outputs_hidden": false
    }
   },
   "outputs": [],
   "source": [
    "(\n",
    "  sqrt(9),\n",
    "  sqrt(100+37),\n",
    "  sqrt(sqrt(2) + sqrt(3)),\n",
    "  square(sqrt(1000))\n",
    ")"
   ]
  },
  {
   "cell_type": "markdown",
   "id": "60bed5a1-1d33-42fc-8064-14497231cf52",
   "metadata": {
    "collapsed": false,
    "jupyter": {
     "outputs_hidden": false
    }
   },
   "source": [
    "#### Exercise 1.8. Newton's method for cube roots"
   ]
  },
  {
   "cell_type": "code",
   "execution_count": null,
   "id": "1cf266e4-2f4b-4fe6-9684-f6e99ebcbbae",
   "metadata": {
    "collapsed": false,
    "jupyter": {
     "outputs_hidden": false
    }
   },
   "outputs": [],
   "source": [
    "def cube(n: Double): Double =\n",
    "  return n * n * n"
   ]
  },
  {
   "cell_type": "code",
   "execution_count": null,
   "id": "5b685c24-04ec-4737-a639-eb2ee6360bfd",
   "metadata": {
    "collapsed": false,
    "jupyter": {
     "outputs_hidden": false
    }
   },
   "outputs": [],
   "source": [
    "def improveCbrt(curGuess: Double, oldGuess: Double): Double =\n",
    "  return (oldGuess / (curGuess * curGuess) + 2 * curGuess) / 3"
   ]
  },
  {
   "cell_type": "code",
   "execution_count": null,
   "id": "6d690c10-a17f-4062-a0e4-d40bdad2d577",
   "metadata": {
    "collapsed": false,
    "jupyter": {
     "outputs_hidden": false
    }
   },
   "outputs": [],
   "source": [
    "def isGoodEnoughCbrt(guess: Double, n: Double): Boolean =\n",
    "  return abs(cube(guess) - n) < 0.001"
   ]
  },
  {
   "cell_type": "code",
   "execution_count": null,
   "id": "4faa9b13-743a-4752-8e2c-1c9a30a6970a",
   "metadata": {
    "collapsed": false,
    "jupyter": {
     "outputs_hidden": false
    }
   },
   "outputs": [],
   "source": [
    "@tailrec\n",
    "def getCbrtIter(guess: Double, n: Double): Double =\n",
    "  if isGoodEnoughCbrt(guess, n) then\n",
    "    return guess\n",
    "  else\n",
    "    return getCbrtIter(improveCbrt(guess, n), n)"
   ]
  },
  {
   "cell_type": "code",
   "execution_count": null,
   "id": "51c4a28a-389f-4793-9c24-7c0f13a2932e",
   "metadata": {
    "collapsed": false,
    "jupyter": {
     "outputs_hidden": false
    }
   },
   "outputs": [],
   "source": [
    "def getCbrt(n: Double): Double =\n",
    "  return getCbrtIter(1, n)"
   ]
  },
  {
   "cell_type": "code",
   "execution_count": null,
   "id": "023e3b58-c918-4171-9db3-ade009d74b3f",
   "metadata": {
    "collapsed": false,
    "jupyter": {
     "outputs_hidden": false
    }
   },
   "outputs": [],
   "source": [
    "(\n",
    "  getCbrt(8),\n",
    "  getCbrt(27),\n",
    "  getCbrt(64),\n",
    ")"
   ]
  },
  {
   "cell_type": "markdown",
   "id": "2d1bcb5f-e05d-4ec9-8e36-489140e1e025",
   "metadata": {
    "collapsed": false,
    "jupyter": {
     "outputs_hidden": false
    }
   },
   "source": [
    "## 1.2 Procedures and the Process they Generate"
   ]
  },
  {
   "cell_type": "markdown",
   "id": "f10534c6-a33a-4f44-b3fd-763459518add",
   "metadata": {
    "collapsed": false,
    "jupyter": {
     "outputs_hidden": false
    }
   },
   "source": [
    "### 1.2.1 Linear Recursion and Iteration"
   ]
  },
  {
   "cell_type": "markdown",
   "id": "6ebfb443-7aef-40f1-90d7-a0fbe4f84019",
   "metadata": {
    "collapsed": false,
    "jupyter": {
     "outputs_hidden": false
    }
   },
   "source": [
    "$$\n",
    "\\begin{align*}\n",
    "n! = \\left\\{\n",
    "    \\begin {aligned}\n",
    "         & 1 \\quad & \\text{if } n = 1 \\\\\n",
    "         & n \\times (n-1)! \\quad & \\text{otherwise}\n",
    "    \\end{aligned}\n",
    "\\right.\n",
    "\\end{align*}\n",
    "$$"
   ]
  },
  {
   "cell_type": "code",
   "execution_count": null,
   "id": "86aa6c7a-b976-4071-933c-f5efdd1039c3",
   "metadata": {
    "collapsed": false,
    "jupyter": {
     "outputs_hidden": false
    }
   },
   "outputs": [],
   "source": [
    "// recursive process\n",
    "def factRec(n: Int): Int =\n",
    "    if (n == 1) then\n",
    "        return 1\n",
    "    else\n",
    "        return n * factRec(n - 1)"
   ]
  },
  {
   "cell_type": "code",
   "execution_count": null,
   "id": "981400ce-8645-4334-acbe-f178515e5b9d",
   "metadata": {
    "collapsed": false,
    "jupyter": {
     "outputs_hidden": false
    }
   },
   "outputs": [],
   "source": [
    "// iterative process\n",
    "@tailrec\n",
    "def factIter(product: Int, counter: Int, maxCount: Int): Int =\n",
    "    if (counter > maxCount) then\n",
    "        return product\n",
    "    else\n",
    "        return factIter(counter * product, counter + 1, maxCount) \n",
    "\n",
    "def fact(n: Int): Int =\n",
    "    return factIter(1, 1, n)"
   ]
  },
  {
   "cell_type": "code",
   "execution_count": null,
   "id": "32f00b7c-8358-409b-bf53-e3a96b4a46e1",
   "metadata": {
    "collapsed": false,
    "jupyter": {
     "outputs_hidden": false
    }
   },
   "outputs": [],
   "source": [
    "println(\"Factorial, a linear recursive process.\")\n",
    "for (i <- 4 to 8)\n",
    "    println(s\"factRec($i) = ${factRec(i)}\")"
   ]
  },
  {
   "cell_type": "code",
   "execution_count": null,
   "id": "4e49175d-856d-4597-b1b9-cb35a6bc0f82",
   "metadata": {
    "collapsed": false,
    "jupyter": {
     "outputs_hidden": false
    }
   },
   "outputs": [],
   "source": [
    "println(\"Factorial, a linear iterative process.\")\n",
    "for (i <- 4 to 8)\n",
    "    println(s\"factIter($i) = ${fact(i)}\")"
   ]
  },
  {
   "cell_type": "markdown",
   "id": "27a6b800-2765-4adb-bc07-62a458a2df11",
   "metadata": {
    "collapsed": false,
    "jupyter": {
     "outputs_hidden": false
    }
   },
   "source": [
    "### 1.2.2 Tree Recursion"
   ]
  },
  {
   "cell_type": "markdown",
   "id": "117fd851-a7b8-443d-9599-162e5153ee99",
   "metadata": {
    "collapsed": false,
    "jupyter": {
     "outputs_hidden": false
    }
   },
   "source": [
    "$$\n",
    "\\begin{align*}\n",
    "Fib(n) = \n",
    "\\left\\{\n",
    "    \\begin {aligned}\n",
    "         & 0 \\quad & \\text{if } n = 0 \\\\\n",
    "         & 1 \\quad & \\text{if } n = 1 \\\\\n",
    "         & Fib(n-1) + Fib(n-2) \\quad & \\text{otherwise}\n",
    "    \\end{aligned}\n",
    "\\right.\n",
    "\\end{align*}\n",
    "$$"
   ]
  },
  {
   "cell_type": "code",
   "execution_count": null,
   "id": "a5a0745b-6b6b-48da-a183-edfbd1af6e07",
   "metadata": {
    "collapsed": false,
    "jupyter": {
     "outputs_hidden": false
    }
   },
   "outputs": [],
   "source": [
    "// recursive process\n",
    "def fibRec(n: Int): Int =\n",
    "    if (n <= 0) then\n",
    "        return 0\n",
    "    else if (n == 1) then\n",
    "        return 1\n",
    "    else\n",
    "        return fibRec(n-1) + fibRec(n-2)"
   ]
  },
  {
   "cell_type": "code",
   "execution_count": null,
   "id": "d1eb1af8-d384-4914-aae7-a808d086fac8",
   "metadata": {
    "collapsed": false,
    "jupyter": {
     "outputs_hidden": false
    }
   },
   "outputs": [],
   "source": [
    "// iterative process\n",
    "@tailrec\n",
    "def fibIter(a: Int, b: Int, count: Int): Int =\n",
    "    if (count <= 0) then\n",
    "        return b\n",
    "    else\n",
    "        fibIter(a+b, a, count-1)\n",
    "\n",
    "def fib(n: Int): Int =\n",
    "    return fibIter(1, 0, n)"
   ]
  },
  {
   "cell_type": "code",
   "execution_count": null,
   "id": "91cf51db-d119-4cfc-a309-90b11b6e92de",
   "metadata": {
    "collapsed": false,
    "jupyter": {
     "outputs_hidden": false
    }
   },
   "outputs": [],
   "source": [
    "println(\"Fibonacci, a linear recursive process.\")\n",
    "for (i <- 4 to 8)\n",
    "    println(s\"fibRec($i) = ${fibRec(i)}\")"
   ]
  },
  {
   "cell_type": "code",
   "execution_count": null,
   "id": "4d7585c5-600e-4cad-b912-0c7453f1b07c",
   "metadata": {
    "collapsed": false,
    "jupyter": {
     "outputs_hidden": false
    }
   },
   "outputs": [],
   "source": [
    "println(\"Fibonacci, a linear iterative process.\")\n",
    "for (i <- 4 to 8)\n",
    "    println(s\"fibIter($i) = ${fib(i)}\")"
   ]
  },
  {
   "cell_type": "markdown",
   "id": "d8176125-a2df-4c25-be90-054745d73d72",
   "metadata": {
    "collapsed": false,
    "jupyter": {
     "outputs_hidden": false
    }
   },
   "source": [
    "#### Example: Counting Change\n",
    "\n",
    "How many different ways can we make change of $1.00, given 50c, 25c, 10c, 5c,\n",
    "1c?\n",
    "\n",
    "More generally, can we write a procedure to compute the number of ways to change\n",
    "any given amount of money?\n",
    "\n",
    "\n",
    "The number of ways to change amount `a` using `n` kinds of coins equals:\n",
    "- the number of ways to change amount `a` using all but the first kind of coin, plus\n",
    "- the number of ways to change amoung `a - d` usling all `n` kinds of coins, where `d` is the denomination of the first kind of coin.\n",
    "\n",
    "Let's specify the following base cases:\n",
    "- if `a` is exactly 0, we should count that as 1 way to make change,\n",
    "- if `a` is less than 0, we should count that as 0 ways to make change.\n",
    "- if `n` is 0, we should count that as 0 ways to make change."
   ]
  },
  {
   "cell_type": "code",
   "execution_count": null,
   "id": "9e3413ea-0c14-4d00-ac24-6220f0ac6679",
   "metadata": {
    "collapsed": false,
    "jupyter": {
     "outputs_hidden": false
    }
   },
   "outputs": [],
   "source": [
    "def getCoinDenomination(kind: Int): Int =\n",
    "    assert(kind > 0)\n",
    "    kind match\n",
    "    case 1 => 1\n",
    "    case 2 => 5\n",
    "    case 3 => 10\n",
    "    case 4 => 25\n",
    "    case 5 => 50\n",
    "    case _ => 50 // should never happen"
   ]
  },
  {
   "cell_type": "code",
   "execution_count": null,
   "id": "61e64094-aacb-4728-b787-d1cbe96abff8",
   "metadata": {
    "collapsed": false,
    "jupyter": {
     "outputs_hidden": false
    }
   },
   "outputs": [],
   "source": [
    "def countChange1(amount: Int, kindsOfCoins: Int): Int =\n",
    "    assert(kindsOfCoins >= 0)\n",
    "    if (amount == 0) then\n",
    "        return 1\n",
    "    else if (amount < 0 || kindsOfCoins == 0) then\n",
    "        return 0\n",
    "    else\n",
    "        return (\n",
    "            countChange1(amount, kindsOfCoins - 1) +\n",
    "            countChange1(amount - getCoinDenomination(kindsOfCoins), kindsOfCoins)\n",
    "        )"
   ]
  },
  {
   "cell_type": "code",
   "execution_count": null,
   "id": "ae236615-84a9-49ec-a4b7-569cdc3be312",
   "metadata": {
    "collapsed": false,
    "jupyter": {
     "outputs_hidden": false
    }
   },
   "outputs": [],
   "source": [
    "def countChange(amount: Int): Int =\n",
    "    assert(amount >= 0)\n",
    "    return countChange1(amount, 5)"
   ]
  },
  {
   "cell_type": "code",
   "execution_count": null,
   "id": "d2dfe927-e816-409d-9d14-3d4befc15e7d",
   "metadata": {
    "collapsed": false,
    "jupyter": {
     "outputs_hidden": false
    }
   },
   "outputs": [],
   "source": [
    "countChange(100)"
   ]
  },
  {
   "cell_type": "markdown",
   "id": "957a14c3-5701-455c-91b6-d1b875b69dc6",
   "metadata": {
    "collapsed": false,
    "jupyter": {
     "outputs_hidden": false
    }
   },
   "source": [
    "#### Exercise 1.12\n",
    "\n",
    "Pascal's Triangle."
   ]
  },
  {
   "cell_type": "code",
   "execution_count": null,
   "id": "d6ca184d-dd7e-4d5b-98ea-2404b29ece89",
   "metadata": {
    "collapsed": false,
    "jupyter": {
     "outputs_hidden": false
    }
   },
   "outputs": [],
   "source": [
    "def getConseqPairs(l: List[Int]): List[List[Int]] = l match\n",
    "  case Nil => Nil\n",
    "  case x::Nil => Nil\n",
    "  case x::xs => List (x :: xs.head :: Nil) ::: getConseqPairs(xs)"
   ]
  },
  {
   "cell_type": "code",
   "execution_count": null,
   "id": "bf311cdd-70ef-4c5e-8b78-1ab6cb1c6b43",
   "metadata": {
    "collapsed": false,
    "jupyter": {
     "outputs_hidden": false
    }
   },
   "outputs": [],
   "source": [
    "def getPascTriangleRow(lvl: Int): List[Int] = \n",
    "    assert(lvl >= 0)\n",
    "    def getMid(l: Int) = getConseqPairs(getPascTriangleRow(l)).map(_.sum)\n",
    "    lvl match\n",
    "        case 0 => List(1)\n",
    "        case  1 => List(1, 1)\n",
    "        case  _ => 1 :: getMid(lvl-1) ::: List(1)"
   ]
  },
  {
   "cell_type": "code",
   "execution_count": null,
   "id": "0f93ac82-8aa1-49a5-bb7a-c7d0008cbf0b",
   "metadata": {
    "collapsed": false,
    "jupyter": {
     "outputs_hidden": false
    }
   },
   "outputs": [],
   "source": [
    "def getPascTriangle(maxLvl: Int): List[List[Int]] =\n",
    "  assert(maxLvl >= 0)\n",
    "  0.to(maxLvl).toList.map(getPascTriangleRow(_))"
   ]
  },
  {
   "cell_type": "code",
   "execution_count": null,
   "id": "2f05e7ad-e090-45cd-bd7f-c18272c01dd6",
   "metadata": {
    "collapsed": false,
    "jupyter": {
     "outputs_hidden": false
    }
   },
   "outputs": [],
   "source": [
    "def getMaxNumWidth(row: List[Int]): Int =\n",
    "  row.map(_.toString).map(_.length).max\n",
    "\n",
    "def getMaxNumLen(triangle: List[List[Int]]): Int =\n",
    "  getMaxNumWidth(triangle.last)"
   ]
  },
  {
   "cell_type": "code",
   "execution_count": null,
   "id": "917796a8-2209-4701-97c8-ec165c05ee64",
   "metadata": {
    "collapsed": false,
    "jupyter": {
     "outputs_hidden": false
    }
   },
   "outputs": [],
   "source": [
    "def getNumStr(n: Int, defWidth: Int): String =\n",
    "  assert(n >= 0)\n",
    "  assert(defWidth >= 0)\n",
    "  val numStr: String = n.toString\n",
    "  val diff: Int = defWidth - numStr.length \n",
    "  val pad: String = \" \" * diff\n",
    "  if diff == 0 then numStr else numStr + pad "
   ]
  },
  {
   "cell_type": "code",
   "execution_count": null,
   "id": "f9bb3a93-1c62-47ef-9351-c75e8d8e4e3d",
   "metadata": {
    "collapsed": false,
    "jupyter": {
     "outputs_hidden": false
    }
   },
   "outputs": [],
   "source": [
    "def showRow(defNumWidth: Int, defRowWidth: Int, row: List[Int]): String =\n",
    "  val core: String = row.map(i => getNumStr(i, defNumWidth)).mkString(\" \")\n",
    "  val diff: Int = (defRowWidth - core.length) / 2\n",
    "  val pad: String = \" \" * diff\n",
    "  pad + core + pad"
   ]
  },
  {
   "cell_type": "code",
   "execution_count": null,
   "id": "6681a4d3-b606-49ae-984a-926a06a019ef",
   "metadata": {
    "collapsed": false,
    "jupyter": {
     "outputs_hidden": false
    }
   },
   "outputs": [],
   "source": [
    "def printPascTriangle(maxLvl: Int) =\n",
    "  assert(0 <= maxLvl, maxLvl <= 15)\n",
    "  val triangle: List[List[Int]] = getPascTriangle(maxLvl)\n",
    "  val maxNumWidth: Int = getMaxNumLen(triangle)\n",
    "  val lastRowWidth: Int = (maxLvl + 1) * maxNumWidth + maxLvl\n",
    "  println(\n",
    "     triangle.map(row => showRow(maxNumWidth, lastRowWidth, row)).mkString(\"\\n\")\n",
    "  ) "
   ]
  },
  {
   "cell_type": "code",
   "execution_count": null,
   "id": "96c1dc14-5245-4b25-b2b9-2b4160f632e4",
   "metadata": {
    "collapsed": false,
    "jupyter": {
     "outputs_hidden": false
    }
   },
   "outputs": [],
   "source": [
    "printPascTriangle(10)"
   ]
  },
  {
   "cell_type": "markdown",
   "id": "d4a18c89-2dae-4de8-807e-5d29bf282cd0",
   "metadata": {
    "collapsed": false,
    "jupyter": {
     "outputs_hidden": false
    }
   },
   "source": [
    "### 1.2.4 Exponentiation"
   ]
  },
  {
   "cell_type": "code",
   "execution_count": null,
   "id": "ec6545a3-3802-4fe7-9b10-d2ce101481ca",
   "metadata": {
    "collapsed": false,
    "jupyter": {
     "outputs_hidden": false
    }
   },
   "outputs": [],
   "source": [
    "// retuires O(n) steps and O(n) space\n",
    "def exptRec(b: Int, n: Int): Int =\n",
    "    n match\n",
    "    case 0 => 1\n",
    "    case _ => b * exptRec(b, n - 1) "
   ]
  },
  {
   "cell_type": "code",
   "execution_count": null,
   "id": "9bda49fa-5015-4588-9232-04656181caa0",
   "metadata": {
    "collapsed": false,
    "jupyter": {
     "outputs_hidden": false
    }
   },
   "outputs": [],
   "source": [
    "// requires O(n) steps and O(1) space\n",
    "@tailrec\n",
    "def exptIter(b: Int, counter: Int, product: Int): Int =\n",
    "    counter match\n",
    "    case 0 => product\n",
    "    case _ => exptIter(b, counter - 1, b * product)\n",
    "\n",
    "def expt(b: Int, n: Int): Int =\n",
    "    return exptIter(b, n, 1)"
   ]
  },
  {
   "cell_type": "code",
   "execution_count": null,
   "id": "47af8392-c5f5-4f7f-bb43-c9bec8418c13",
   "metadata": {
    "collapsed": false,
    "jupyter": {
     "outputs_hidden": false
    }
   },
   "outputs": [],
   "source": [
    "val rand = new scala.util.Random"
   ]
  },
  {
   "cell_type": "code",
   "execution_count": null,
   "id": "3d44391b-63d0-4ba3-866b-e4aacfdb3547",
   "metadata": {
    "collapsed": false,
    "jupyter": {
     "outputs_hidden": false
    }
   },
   "outputs": [],
   "source": [
    "var pow = 0\n",
    "for(_ <- 1 to 5)\n",
    "    pow = rand.between(0, 8)\n",
    "    println(s\"recursive exponentiation 2^${pow} = ${exptRec(2, pow)}\")"
   ]
  },
  {
   "cell_type": "code",
   "execution_count": null,
   "id": "ba5e8bbf-1f79-4a41-b950-07f70464add0",
   "metadata": {
    "collapsed": false,
    "jupyter": {
     "outputs_hidden": false
    }
   },
   "outputs": [],
   "source": [
    "var pow = 0\n",
    "for(_ <- 1 to 5)\n",
    "    pow = rand.between(0, 8)\n",
    "    println(s\"iterative exponentiation 2^${pow} = ${expt(2, pow)}\")"
   ]
  },
  {
   "cell_type": "markdown",
   "id": "b07ea039-7104-429b-b657-586f8353a5db",
   "metadata": {
    "collapsed": false,
    "jupyter": {
     "outputs_hidden": false
    }
   },
   "source": [
    "`expt` (and `exptIter`) requires O(n) steps and O(1) space."
   ]
  },
  {
   "cell_type": "markdown",
   "id": "f11371b1-71dd-4a9f-b78a-7ca8ac8ede5d",
   "metadata": {
    "collapsed": false,
    "jupyter": {
     "outputs_hidden": false
    }
   },
   "source": [
    "Computing exponentials with fewer steps by using successive squaring, e.g. for $b^8$, \n",
    "instead of:\n",
    "\n",
    "$b * (b * (b * (b * (b * (b * (b * b))))))$\n",
    "\n",
    "we compute:\n",
    "\n",
    "$b^2 = b * b$,\n",
    "\n",
    "$b^4 = b^2 * b^2$,\n",
    "\n",
    "$b^8 = b^4 * b^4$\n",
    "\n",
    "In general we type:\n",
    "\n",
    "$b^n = (b^{n/2})^2$ if $n$ is even,\n",
    "\n",
    "$b^n = b * b^{n-1}$ if $n$ is odd."
   ]
  },
  {
   "cell_type": "code",
   "execution_count": null,
   "id": "87aa1eed-f892-4cef-a1be-19b2e75fd384",
   "metadata": {
    "collapsed": false,
    "jupyter": {
     "outputs_hidden": false
    }
   },
   "outputs": [],
   "source": [
    "def isEven(n: Int): Boolean =\n",
    "    return n % 2 == 0"
   ]
  },
  {
   "cell_type": "code",
   "execution_count": null,
   "id": "fbf1cb1c-e0f1-43f8-940e-ae30f6b82f0f",
   "metadata": {
    "collapsed": false,
    "jupyter": {
     "outputs_hidden": false
    }
   },
   "outputs": [],
   "source": [
    "def square(x: Int): Int =\n",
    "    return x * x"
   ]
  },
  {
   "cell_type": "code",
   "execution_count": null,
   "id": "39cc8f78-5ca8-4d14-8a09-c1019a7e9d7a",
   "metadata": {
    "collapsed": false,
    "jupyter": {
     "outputs_hidden": false
    }
   },
   "outputs": [],
   "source": [
    "def fastExpt(b: Int, n: Int): Int =\n",
    "    if n == 0 then\n",
    "        return 1\n",
    "    else if isEven(n) then\n",
    "        return square(fastExpt(b, n/2))\n",
    "    else\n",
    "        return b * fastExpt(b, n-1)"
   ]
  },
  {
   "cell_type": "code",
   "execution_count": null,
   "id": "ce9d0cd0-b834-43ad-90fc-be6182f033d0",
   "metadata": {
    "collapsed": false,
    "jupyter": {
     "outputs_hidden": false
    }
   },
   "outputs": [],
   "source": [
    "var pow = 0\n",
    "for(_ <- 1 to 5)\n",
    "    pow = rand.between(0, 8)\n",
    "    println(s\"fast exponentiation 2^${pow} = ${fastExpt(2, pow)}\")"
   ]
  },
  {
   "cell_type": "code",
   "execution_count": null,
   "id": "eb6b258e-9693-4f35-be7e-f74ac80f4062",
   "metadata": {
    "collapsed": false,
    "jupyter": {
     "outputs_hidden": false
    }
   },
   "outputs": [],
   "source": [
    "def log2(x: Double): Double =\n",
    "    return scala.math.log10(x)/scala.math.log10(2)"
   ]
  },
  {
   "cell_type": "markdown",
   "id": "4e0d83bd-5901-4435-a7e4-0440af2df0e8",
   "metadata": {
    "collapsed": false,
    "jupyter": {
     "outputs_hidden": false
    }
   },
   "source": [
    "The process (`fastExpt`) requires O(log n) steps instead of O(n) steps (`exptIter`)."
   ]
  }
 ],
 "metadata": {
  "kernelspec": {
   "argv": [
    "java",
    "-cp",
    "/home/czesio/.local/share/jupyter/kernels/scala/launcher.jar",
    "coursier.bootstrap.launcher.Launcher",
    "--connection-file",
    "{connection_file}"
   ],
   "display_name": "Scala",
   "env": null,
   "interrupt_mode": "signal",
   "language": "scala",
   "metadata": null,
   "name": "scala"
  },
  "language_info": {
   "codemirror_mode": "text/x-scala",
   "file_extension": ".sc",
   "mimetype": "text/x-scala",
   "name": "scala",
   "nbconvert_exporter": "script",
   "version": "2.13.14"
  },
  "name": "ch01.ipynb"
 },
 "nbformat": 4,
 "nbformat_minor": 4
}
