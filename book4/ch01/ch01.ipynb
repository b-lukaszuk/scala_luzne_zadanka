{
 "cells": [
  {
   "cell_type": "markdown",
   "id": "c3e2d11c-161c-4522-9041-e795dcfe84e1",
   "metadata": {
    "collapsed": false,
    "jupyter": {
     "outputs_hidden": false
    }
   },
   "source": [
    "# Ch01. Building Abstractions with Procedures"
   ]
  },
  {
   "cell_type": "markdown",
   "id": "b27baf5b-2197-432c-b0c1-7946ffb9f00c",
   "metadata": {
    "collapsed": false,
    "jupyter": {
     "outputs_hidden": false
    }
   },
   "source": [
    "## Imports"
   ]
  },
  {
   "cell_type": "code",
   "execution_count": null,
   "id": "8f648e2d-5f69-4335-8b9c-024387e4faad",
   "metadata": {
    "collapsed": false,
    "jupyter": {
     "outputs_hidden": false
    }
   },
   "outputs": [],
   "source": [
    "import scala.annotation.tailrec"
   ]
  },
  {
   "cell_type": "markdown",
   "id": "f2d46245-1018-46f4-89bb-e754acfed7b2",
   "metadata": {
    "collapsed": false,
    "jupyter": {
     "outputs_hidden": false
    }
   },
   "source": [
    "## Naming the Environment"
   ]
  },
  {
   "cell_type": "code",
   "execution_count": null,
   "id": "7318c036-6e0f-4a14-a3ab-ab34cd8594ff",
   "metadata": {
    "collapsed": false,
    "jupyter": {
     "outputs_hidden": false
    }
   },
   "outputs": [],
   "source": [
    "def circumference(radius:Double):Double =\n",
    "    return scala.math.Pi * radius * radius"
   ]
  },
  {
   "cell_type": "code",
   "execution_count": null,
   "id": "46c77a87-85a2-400b-aaee-2b41a7645758",
   "metadata": {
    "collapsed": false,
    "jupyter": {
     "outputs_hidden": false
    }
   },
   "outputs": [],
   "source": [
    "circumference(10)"
   ]
  },
  {
   "cell_type": "markdown",
   "id": "8e660e2f-09fe-4d9a-8c94-1fbf48e31a38",
   "metadata": {
    "collapsed": false,
    "jupyter": {
     "outputs_hidden": false
    }
   },
   "source": [
    "## Compound Procedures"
   ]
  },
  {
   "cell_type": "code",
   "execution_count": null,
   "id": "7edec17a-9cbb-40e0-9d0b-3b44bfe210c6",
   "metadata": {
    "collapsed": false,
    "jupyter": {
     "outputs_hidden": false
    }
   },
   "outputs": [],
   "source": [
    "def square(x:Double):Double =\n",
    "    return x * x"
   ]
  },
  {
   "cell_type": "code",
   "execution_count": null,
   "id": "2afdac9a-4a17-4563-bcb2-f5c2577fb3d8",
   "metadata": {
    "collapsed": false,
    "jupyter": {
     "outputs_hidden": false
    }
   },
   "outputs": [],
   "source": [
    "(\n",
    "    square(21),\n",
    "    square(2+5),\n",
    "    square(square(3))\n",
    ")"
   ]
  },
  {
   "cell_type": "code",
   "execution_count": null,
   "id": "d6570153-863b-47d6-9484-ebf7d49d7044",
   "metadata": {
    "collapsed": false,
    "jupyter": {
     "outputs_hidden": false
    }
   },
   "outputs": [],
   "source": [
    "def sumOfSquares(x:Double, y:Double):Double =\n",
    "    return square(x) + square(y)"
   ]
  },
  {
   "cell_type": "code",
   "execution_count": null,
   "id": "c5b01ba7-13ed-4d54-b9ec-3f5e7513e35a",
   "metadata": {
    "collapsed": false,
    "jupyter": {
     "outputs_hidden": false
    }
   },
   "outputs": [],
   "source": [
    "sumOfSquares(3, 4)"
   ]
  },
  {
   "cell_type": "markdown",
   "id": "df6d42a6-2dff-484d-8c1f-c70387c0cd4a",
   "metadata": {
    "collapsed": false,
    "jupyter": {
     "outputs_hidden": false
    }
   },
   "source": [
    "## Conditional Expressions and Predicates"
   ]
  },
  {
   "cell_type": "code",
   "execution_count": null,
   "id": "530f807f-b871-4705-ad84-9139628c6d78",
   "metadata": {
    "collapsed": false,
    "jupyter": {
     "outputs_hidden": false
    }
   },
   "outputs": [],
   "source": [
    "def abs(x:Double): Double =\n",
    "  return if x < 0 then -x else x"
   ]
  },
  {
   "cell_type": "code",
   "execution_count": null,
   "id": "90436049-412f-44f2-abde-efd84f02d77f",
   "metadata": {
    "collapsed": false,
    "jupyter": {
     "outputs_hidden": false
    }
   },
   "outputs": [],
   "source": [
    "(\n",
    "    abs(-3),\n",
    "    abs(0),\n",
    "    abs(3)\n",
    ")"
   ]
  },
  {
   "cell_type": "markdown",
   "id": "e4f66182-ce3e-4941-b771-436aa261f9b0",
   "metadata": {
    "collapsed": false,
    "jupyter": {
     "outputs_hidden": false
    }
   },
   "source": [
    "## Example: Square Roots by Newton's Method"
   ]
  },
  {
   "cell_type": "code",
   "execution_count": null,
   "id": "1edfe699-f738-4087-9924-2e95982b7a50",
   "metadata": {
    "collapsed": false,
    "jupyter": {
     "outputs_hidden": false
    }
   },
   "outputs": [],
   "source": [
    "def average(x:Double, y:Double): Double =\n",
    "  return (x + y) / 2"
   ]
  },
  {
   "cell_type": "code",
   "execution_count": null,
   "id": "ad53912d-e78d-423d-ab8e-6a8a4483601c",
   "metadata": {
    "collapsed": false,
    "jupyter": {
     "outputs_hidden": false
    }
   },
   "outputs": [],
   "source": [
    "def improveSqrt(curGuess:Double, oldGuess:Double): Double =\n",
    "  return average(curGuess, oldGuess/curGuess)"
   ]
  },
  {
   "cell_type": "code",
   "execution_count": null,
   "id": "aead1330-eb5d-47ba-b971-cf1aed4e7129",
   "metadata": {
    "collapsed": false,
    "jupyter": {
     "outputs_hidden": false
    }
   },
   "outputs": [],
   "source": [
    "def isGoodEnoughSqrt(guess:Double, x:Double): Boolean =\n",
    "  return abs(square(guess) - x) < 0.001"
   ]
  },
  {
   "cell_type": "code",
   "execution_count": null,
   "id": "6e48cd76-1dd8-46c9-8254-5ea1c8cd41a2",
   "metadata": {
    "collapsed": false,
    "jupyter": {
     "outputs_hidden": false
    }
   },
   "outputs": [],
   "source": [
    "@tailrec\n",
    "def sqrtIter(guess: Double, x:Double):Double =\n",
    "  if isGoodEnoughSqrt(guess, x) then\n",
    "    return guess\n",
    "  else\n",
    "    return sqrtIter(improveSqrt(guess, x), x)"
   ]
  },
  {
   "cell_type": "code",
   "execution_count": null,
   "id": "3a3ae81b-eec1-481c-a427-58b8676020a3",
   "metadata": {
    "collapsed": false,
    "jupyter": {
     "outputs_hidden": false
    }
   },
   "outputs": [],
   "source": [
    "def sqrt(x:Double):Double =\n",
    "  return sqrtIter(1, x)"
   ]
  },
  {
   "cell_type": "code",
   "execution_count": null,
   "id": "ca7c14c0-7967-4c3e-b90f-146c4cb8d760",
   "metadata": {
    "collapsed": false,
    "jupyter": {
     "outputs_hidden": false
    }
   },
   "outputs": [],
   "source": [
    "(\n",
    "  sqrt(9),\n",
    "  sqrt(100+37),\n",
    "  sqrt(sqrt(2) + sqrt(3)),\n",
    "  square(sqrt(1000))\n",
    ")"
   ]
  },
  {
   "cell_type": "markdown",
   "id": "a560efa4-9bbc-4395-b7d9-70251a0da5bc",
   "metadata": {
    "collapsed": false,
    "jupyter": {
     "outputs_hidden": false
    }
   },
   "source": [
    "## Exercise 1.8. Newton's method for cube roots"
   ]
  },
  {
   "cell_type": "code",
   "execution_count": null,
   "id": "2110c9b9-c2ac-4729-b57c-294d81637f72",
   "metadata": {
    "collapsed": false,
    "jupyter": {
     "outputs_hidden": false
    }
   },
   "outputs": [],
   "source": [
    "def cube(n: Double): Double =\n",
    "  return n * n * n"
   ]
  },
  {
   "cell_type": "code",
   "execution_count": null,
   "id": "142b8526-8bfb-4258-b77d-08677e289e23",
   "metadata": {
    "collapsed": false,
    "jupyter": {
     "outputs_hidden": false
    }
   },
   "outputs": [],
   "source": [
    "def improveCbrt(curGuess: Double, oldGuess: Double): Double =\n",
    "  return (oldGuess / (curGuess * curGuess) + 2 * curGuess) / 3"
   ]
  },
  {
   "cell_type": "code",
   "execution_count": null,
   "id": "0f51eb50-43ea-4ae8-97f1-c9b5477328d1",
   "metadata": {
    "collapsed": false,
    "jupyter": {
     "outputs_hidden": false
    }
   },
   "outputs": [],
   "source": [
    "def isGoodEnoughCbrt(guess: Double, n: Double): Boolean =\n",
    "  return abs(cube(guess) - n) < 0.001"
   ]
  },
  {
   "cell_type": "code",
   "execution_count": null,
   "id": "dd5cdd8c-447b-4029-b531-8ceff72226c6",
   "metadata": {
    "collapsed": false,
    "jupyter": {
     "outputs_hidden": false
    }
   },
   "outputs": [],
   "source": [
    "@tailrec\n",
    "def getCbrtIter(guess: Double, n: Double): Double =\n",
    "  if isGoodEnoughCbrt(guess, n) then\n",
    "    return guess\n",
    "  else\n",
    "    return getCbrtIter(improveCbrt(guess, n), n)"
   ]
  },
  {
   "cell_type": "code",
   "execution_count": null,
   "id": "91c85f3f-6135-4b52-ae63-b88db2e54310",
   "metadata": {
    "collapsed": false,
    "jupyter": {
     "outputs_hidden": false
    }
   },
   "outputs": [],
   "source": [
    "def getCbrt(n: Double): Double =\n",
    "  return getCbrtIter(1, n)"
   ]
  },
  {
   "cell_type": "code",
   "execution_count": null,
   "id": "a383b27a-9045-4f9c-a14e-8bd2d3f1fea7",
   "metadata": {
    "collapsed": false,
    "jupyter": {
     "outputs_hidden": false
    }
   },
   "outputs": [],
   "source": [
    "(\n",
    "  getCbrt(8),\n",
    "  getCbrt(27),\n",
    "  getCbrt(64),\n",
    ")"
   ]
  },
  {
   "cell_type": "markdown",
   "id": "c71d2d58-90ab-416b-bc19-5d01a8fada03",
   "metadata": {
    "collapsed": false,
    "jupyter": {
     "outputs_hidden": false
    }
   },
   "source": [
    "## Linear Recursion and Iteration"
   ]
  },
  {
   "cell_type": "markdown",
   "id": "e6894fcd-fa3e-49ef-953a-9ee29afbd6df",
   "metadata": {
    "collapsed": false
   },
   "source": [
    "$$\n",
    "\\begin{align*}\n",
    "n! = \n",
    "\\left\\{\n",
    "    \\begin {aligned}\n",
    "         & 1 \\quad & \\text{if } n = 1 \\\\\n",
    "         & n \\times (n-1)! \\quad & otherwise                 \n",
    "    \\end{aligned}\n",
    "\\right.\n",
    "\\end{align*}\n",
    "$$"
   ]
  },
  {
   "cell_type": "code",
   "execution_count": null,
   "id": "a548831f-0f81-41ff-a3d4-4273c5f70bd2",
   "metadata": {
    "collapsed": false,
    "jupyter": {
     "outputs_hidden": false
    }
   },
   "outputs": [],
   "source": [
    "// recursive process\n",
    "def factRec(n: Int): Int =\n",
    "    if (n == 1) then\n",
    "        return 1\n",
    "    else\n",
    "        return n * factRec(n - 1)"
   ]
  },
  {
   "cell_type": "code",
   "execution_count": null,
   "id": "4f29a91d-0639-4a36-9221-1be38b5ef0a2",
   "metadata": {
    "collapsed": false,
    "jupyter": {
     "outputs_hidden": false
    }
   },
   "outputs": [],
   "source": [
    "// iterative process\n",
    "@tailrec\n",
    "def factIter(product: Int, counter: Int, maxCount: Int): Int =\n",
    "    if (counter > maxCount) then\n",
    "        return product\n",
    "    else\n",
    "        return factIter(counter * product, counter + 1, maxCount) \n",
    "\n",
    "def fact(n: Int): Int =\n",
    "    return factIter(1, 1, n)"
   ]
  },
  {
   "cell_type": "code",
   "execution_count": null,
   "id": "586a48d9-89b5-4aaa-8803-f7b5201f26ad",
   "metadata": {
    "collapsed": false,
    "jupyter": {
     "outputs_hidden": false
    }
   },
   "outputs": [],
   "source": [
    "println(\"Factorial, a linear recursive process.\")\n",
    "for (i <- 4 to 8)\n",
    "    println(s\"factRec($i) = ${factRec(i)}\")"
   ]
  },
  {
   "cell_type": "code",
   "execution_count": null,
   "id": "3b506494-9205-4560-b616-b7d227f3754f",
   "metadata": {
    "collapsed": false,
    "jupyter": {
     "outputs_hidden": false
    }
   },
   "outputs": [],
   "source": [
    "println(\"Factorial, a linear iterative process.\")\n",
    "for (i <- 4 to 8)\n",
    "    println(s\"factIter($i) = ${fact(i)}\")"
   ]
  },
  {
   "cell_type": "markdown",
   "id": "08e0f6aa-684d-463a-b7f7-b13d5a105549",
   "metadata": {
    "collapsed": false,
    "jupyter": {
     "outputs_hidden": false
    }
   },
   "source": [
    "## Tree Recursion"
   ]
  },
  {
   "cell_type": "markdown",
   "id": "ada5a94e-abf6-4308-9b32-a426af22ecfc",
   "metadata": {
    "collapsed": false
   },
   "source": [
    "$$\n",
    "\\begin{align*}\n",
    "Fib(n) = \n",
    "\\left\\{\n",
    "    \\begin {aligned}\n",
    "         & 0 \\quad & \\text{if } n = 0 \\\\\n",
    "         & 1 \\quad & \\text{if } n = 1 \\\\\n",
    "         & Fib(n-1) + Fib(n-2) \\quad & \\text{otherwise}\n",
    "    \\end{aligned}\n",
    "\\right.\n",
    "\\end{align*}\n",
    "$$"
   ]
  },
  {
   "cell_type": "code",
   "execution_count": null,
   "id": "d46292de-f889-4e9e-ad67-a33601525d57",
   "metadata": {
    "collapsed": false,
    "jupyter": {
     "outputs_hidden": false
    }
   },
   "outputs": [],
   "source": [
    "// recursive process\n",
    "def fibRec(n: Int): Int =\n",
    "    if (n <= 0) then\n",
    "        return 0\n",
    "    else if (n == 1) then\n",
    "        return 1\n",
    "    else\n",
    "        return fibRec(n-1) + fibRec(n-2)"
   ]
  },
  {
   "cell_type": "code",
   "execution_count": null,
   "id": "e802737c-26aa-45bb-8cef-05d579bd0381",
   "metadata": {
    "collapsed": false,
    "jupyter": {
     "outputs_hidden": false
    }
   },
   "outputs": [],
   "source": [
    "// iterative process\n",
    "@tailrec\n",
    "def fibIter(a: Int, b: Int, count: Int): Int =\n",
    "    if (count <= 0) then\n",
    "        return b\n",
    "    else\n",
    "        fibIter(a+b, a, count-1)\n",
    "\n",
    "def fib(n: Int): Int =\n",
    "    return fibIter(1, 0, n)"
   ]
  },
  {
   "cell_type": "code",
   "execution_count": null,
   "id": "8c622659-1d9c-4eff-b274-592f4898aabc",
   "metadata": {
    "collapsed": false,
    "jupyter": {
     "outputs_hidden": false
    }
   },
   "outputs": [],
   "source": [
    "println(\"Fibonacci, a linear recursive process.\")\n",
    "for (i <- 4 to 8)\n",
    "    println(s\"fibRec($i) = ${fibRec(i)}\")"
   ]
  },
  {
   "cell_type": "code",
   "execution_count": null,
   "id": "7dbb6076-3d6b-45cd-93f0-608da254a19a",
   "metadata": {
    "collapsed": false,
    "jupyter": {
     "outputs_hidden": false
    }
   },
   "outputs": [],
   "source": [
    "println(\"Fibonacci, a linear iterative process.\")\n",
    "for (i <- 4 to 8)\n",
    "    println(s\"fibIter($i) = ${fib(i)}\")"
   ]
  },
  {
   "cell_type": "markdown",
   "id": "9841ab16-f5f6-4e8b-84c1-bcf8ad0e93b1",
   "metadata": {
    "collapsed": false,
    "jupyter": {
     "outputs_hidden": false
    }
   },
   "source": [
    "## Example: Counting Change\n",
    "\n",
    "How many different ways can we make change of $1.00, given 50c, 25c, 10c, 5c,\n",
    "1c?\n",
    "\n",
    "More generally, can we write a procedure to compute the number of ways to change\n",
    "any given amount of money?\n",
    "\n",
    "\n",
    "The number of ways to change amount `a` using `n` kinds of coins equals:\n",
    "- the number of ways to change amount `a` using all but the first kind of coin, plus\n",
    "- the number of ways to change amoung `a - d` usling all `n` kinds of coins, where `d` is the denomination of the first kind of coin.\n",
    "\n",
    "Let's specify the following base cases:\n",
    "- if `a` is exactly 0, we should count that as 1 way to make change,\n",
    "- if `a` is less than 0, we should count that as 0 ways to make change.\n",
    "- if `n` is 0, we should count that as 0 ways to make change."
   ]
  },
  {
   "cell_type": "code",
   "execution_count": null,
   "id": "b6cf9ef6-c41c-4982-abfc-4f0aa3070ba1",
   "metadata": {
    "collapsed": false,
    "jupyter": {
     "outputs_hidden": false
    }
   },
   "outputs": [],
   "source": [
    "def getCoinDenomination(kind: Int): Int =\n",
    "    assert(kind > 0)\n",
    "    kind match\n",
    "    case 1 => 1\n",
    "    case 2 => 5\n",
    "    case 3 => 10\n",
    "    case 4 => 25\n",
    "    case 5 => 50\n",
    "    case _ => 50 // should never happen"
   ]
  },
  {
   "cell_type": "code",
   "execution_count": null,
   "id": "d2006da8-f52f-4ac6-9fd6-82b5ab8d42f0",
   "metadata": {
    "collapsed": false,
    "jupyter": {
     "outputs_hidden": false
    }
   },
   "outputs": [],
   "source": [
    "def countChange1(amount: Int, kindsOfCoins: Int): Int =\n",
    "    assert(kindsOfCoins >= 0)\n",
    "    if (amount == 0) then\n",
    "        return 1\n",
    "    else if (amount < 0 || kindsOfCoins == 0) then\n",
    "        return 0\n",
    "    else\n",
    "        return (\n",
    "            countChange1(amount, kindsOfCoins - 1) +\n",
    "            countChange1(amount - getCoinDenomination(kindsOfCoins), kindsOfCoins)\n",
    "        )"
   ]
  },
  {
   "cell_type": "code",
   "execution_count": null,
   "id": "b4b49047-d224-4d9d-a0ea-6f1262bd8a1d",
   "metadata": {
    "collapsed": false,
    "jupyter": {
     "outputs_hidden": false
    }
   },
   "outputs": [],
   "source": [
    "def countChange(amount: Int): Int =\n",
    "    assert(amount >= 0)\n",
    "    return countChange1(amount, 5)"
   ]
  },
  {
   "cell_type": "code",
   "execution_count": null,
   "id": "daa7eacc-c143-435b-a9f6-79fbcffa099a",
   "metadata": {
    "collapsed": false,
    "jupyter": {
     "outputs_hidden": false
    }
   },
   "outputs": [],
   "source": [
    "countChange(100)"
   ]
  },
  {
   "cell_type": "markdown",
   "id": "c89c572a-ba8c-4166-ac39-ffbc882d33f6",
   "metadata": {
    "collapsed": false,
    "jupyter": {
     "outputs_hidden": false
    }
   },
   "source": [
    "## Exponentiation"
   ]
  },
  {
   "cell_type": "code",
   "execution_count": null,
   "id": "edcee015-a2ac-4f69-9859-f8c2b6607d5f",
   "metadata": {
    "collapsed": false,
    "jupyter": {
     "outputs_hidden": false
    }
   },
   "outputs": [],
   "source": [
    "// retuires O(n) steps and O(n) space\n",
    "def exptRec(b: Int, n: Int): Int =\n",
    "    n match\n",
    "    case 0 => 1\n",
    "    case _ => b * exptRec(b, n - 1) "
   ]
  },
  {
   "cell_type": "code",
   "execution_count": null,
   "id": "570dee49-b477-4500-9079-b12a4f25f212",
   "metadata": {
    "collapsed": false,
    "jupyter": {
     "outputs_hidden": false
    }
   },
   "outputs": [],
   "source": [
    "// requires O(n) steps and O(1) space\n",
    "@tailrec\n",
    "def exptIter(b: Int, counter: Int, product: Int): Int =\n",
    "    counter match\n",
    "    case 0 => product\n",
    "    case _ => exptIter(b, counter - 1, b * product)\n",
    "\n",
    "def expt(b: Int, n: Int): Int =\n",
    "    return exptIter(b, n, 1)"
   ]
  },
  {
   "cell_type": "code",
   "execution_count": null,
   "id": "0f14ac0d-7907-4563-bd08-d224132b54b0",
   "metadata": {
    "collapsed": false,
    "jupyter": {
     "outputs_hidden": false
    }
   },
   "outputs": [],
   "source": [
    "val rand = new scala.util.Random"
   ]
  },
  {
   "cell_type": "code",
   "execution_count": null,
   "id": "14a3b252-2556-439d-8ebc-854f142dcbd0",
   "metadata": {
    "collapsed": false,
    "jupyter": {
     "outputs_hidden": false
    }
   },
   "outputs": [],
   "source": [
    "var pow = 0\n",
    "for(_ <- 1 to 5)\n",
    "    pow = rand.between(0, 8)\n",
    "    println(s\"recursive exponentiation 2^${pow} = ${exptRec(2, pow)}\")"
   ]
  },
  {
   "cell_type": "code",
   "execution_count": null,
   "id": "3d903b4f-0e78-4da2-adba-6a95572693b8",
   "metadata": {
    "collapsed": false,
    "jupyter": {
     "outputs_hidden": false
    }
   },
   "outputs": [],
   "source": [
    "var pow = 0\n",
    "for(_ <- 1 to 5)\n",
    "    pow = rand.between(0, 8)\n",
    "    println(s\"iterative exponentiation 2^${pow} = ${expt(2, pow)}\")"
   ]
  },
  {
   "cell_type": "markdown",
   "id": "2d99347b-1118-44b9-b859-e99ba3bcb565",
   "metadata": {
    "collapsed": false,
    "jupyter": {
     "outputs_hidden": false
    }
   },
   "source": [
    "`expt` (and `exptIter`) requires O(n) steps and O(1) space."
   ]
  },
  {
   "cell_type": "markdown",
   "id": "7be550f1-fc5b-4cef-bcc8-ecc4d41e5e75",
   "metadata": {
    "collapsed": false,
    "jupyter": {
     "outputs_hidden": false
    }
   },
   "source": [
    "Computing exponentials with fewer steps by using successive squaring, e.g. for $b^8$, \n",
    "instead of:\n",
    "\n",
    "$b * (b * (b * (b * (b * (b * (b * b))))))$\n",
    "\n",
    "we compute:\n",
    "\n",
    "$b^2 = b * b$,\n",
    "\n",
    "$b^4 = b^2 * b^2$,\n",
    "\n",
    "$b^8 = b^4 * b^4$\n",
    "\n",
    "In general we type:\n",
    "\n",
    "$b^n = (b^{n/2})^2$ if $n$ is even,\n",
    "\n",
    "$b^n = b * b^{n-1}$ if $n$ is odd."
   ]
  },
  {
   "cell_type": "code",
   "execution_count": null,
   "id": "65690f03-8973-4099-87bc-50e62d0e6edc",
   "metadata": {
    "collapsed": false,
    "jupyter": {
     "outputs_hidden": false
    }
   },
   "outputs": [],
   "source": [
    "def isEven(n: Int): Boolean =\n",
    "    return n % 2 == 0"
   ]
  },
  {
   "cell_type": "code",
   "execution_count": null,
   "id": "56064a67-906e-4c00-9e63-81d7473379c8",
   "metadata": {
    "collapsed": false,
    "jupyter": {
     "outputs_hidden": false
    }
   },
   "outputs": [],
   "source": [
    "def square(x: Int): Int =\n",
    "    return x * x"
   ]
  },
  {
   "cell_type": "code",
   "execution_count": null,
   "id": "2ecafa4b-7640-4382-b23d-f31231586a3c",
   "metadata": {
    "collapsed": false,
    "jupyter": {
     "outputs_hidden": false
    }
   },
   "outputs": [],
   "source": [
    "def fastExpt(b: Int, n: Int): Int =\n",
    "    if n == 0 then\n",
    "        return 1\n",
    "    else if isEven(n) then\n",
    "        return square(fastExpt(b, n/2))\n",
    "    else\n",
    "        return b * fastExpt(b, n-1)"
   ]
  },
  {
   "cell_type": "code",
   "execution_count": null,
   "id": "2549b316-f88b-4b75-b151-a224228f75cc",
   "metadata": {
    "collapsed": false,
    "jupyter": {
     "outputs_hidden": false
    }
   },
   "outputs": [],
   "source": [
    "var pow = 0\n",
    "for(_ <- 1 to 5)\n",
    "    pow = rand.between(0, 8)\n",
    "    println(s\"fast exponentiation 2^${pow} = ${fastExpt(2, pow)}\")"
   ]
  },
  {
   "cell_type": "code",
   "execution_count": null,
   "id": "f60f4eaa-d3c1-4981-a0b6-9de39fd21e2e",
   "metadata": {
    "collapsed": false,
    "jupyter": {
     "outputs_hidden": false
    }
   },
   "outputs": [],
   "source": [
    "def log2(x: Double): Double =\n",
    "    return scala.math.log10(x)/scala.math.log10(2)"
   ]
  },
  {
   "cell_type": "markdown",
   "id": "e04f1153-29ac-4fbe-8b23-62e3a1429924",
   "metadata": {
    "collapsed": false,
    "jupyter": {
     "outputs_hidden": false
    }
   },
   "source": [
    "The process (`fastExpt`) requires O(log n) steps instead of O(n) steps (`exptIter`)."
   ]
  }
 ],
 "metadata": {
  "kernelspec": {
   "argv": [
    "java",
    "-cp",
    "/home/czesio/.local/share/jupyter/kernels/scala/launcher.jar",
    "coursier.bootstrap.launcher.Launcher",
    "--connection-file",
    "{connection_file}"
   ],
   "display_name": "Scala",
   "env": null,
   "interrupt_mode": "signal",
   "language": "scala",
   "metadata": null,
   "name": "scala"
  },
  "language_info": {
   "codemirror_mode": "text/x-scala",
   "file_extension": ".sc",
   "mimetype": "text/x-scala",
   "name": "scala",
   "nbconvert_exporter": "script",
   "version": "2.13.14"
  },
  "name": "ch01.ipynb"
 },
 "nbformat": 4,
 "nbformat_minor": 4
}
